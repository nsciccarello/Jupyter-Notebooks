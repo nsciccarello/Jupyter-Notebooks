{
 "cells": [
  {
   "cell_type": "code",
   "execution_count": 2,
   "id": "1e63db58",
   "metadata": {},
   "outputs": [
    {
     "data": {
      "text/plain": [
       "Labrador       2\n",
       "Chow Chow      2\n",
       "St. Bernard    1\n",
       "Chihuahua      1\n",
       "Schnauzer      1\n",
       "Poodle         1\n",
       "Name: breed, dtype: int64"
      ]
     },
     "execution_count": 2,
     "metadata": {},
     "output_type": "execute_result"
    }
   ],
   "source": [
    "import pandas as pd\n",
    "vet_visits = pd.read_csv('C:/Users/nswat/Documents/DataCamp/Datasets/PersonalDatasets/VetVisits.csv')\n",
    "\n",
    "#Drop duplicates by name and breed\n",
    "unique_dogs = vet_visits.drop_duplicates(subset=['name', 'breed'])\n",
    "\n",
    "#Count the dogs by breed with the sort argument, making the breeds with the biggest counts on top\n",
    "unique_dogs['breed'].value_counts(sort=True)"
   ]
  }
 ],
 "metadata": {
  "kernelspec": {
   "display_name": "Python 3",
   "language": "python",
   "name": "python3"
  },
  "language_info": {
   "codemirror_mode": {
    "name": "ipython",
    "version": 3
   },
   "file_extension": ".py",
   "mimetype": "text/x-python",
   "name": "python",
   "nbconvert_exporter": "python",
   "pygments_lexer": "ipython3",
   "version": "3.8.8"
  }
 },
 "nbformat": 4,
 "nbformat_minor": 5
}
