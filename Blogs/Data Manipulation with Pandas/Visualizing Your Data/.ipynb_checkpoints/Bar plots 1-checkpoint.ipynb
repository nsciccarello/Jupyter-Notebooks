{
 "cells": [
  {
   "cell_type": "code",
   "execution_count": 6,
   "id": "e63c7ac0",
   "metadata": {
    "scrolled": true
   },
   "outputs": [
    {
     "name": "stdout",
     "output_type": "stream",
     "text": [
      "size\n",
      "extra_large    4.620568e+05\n",
      "large          5.961573e+06\n",
      "small          6.079693e+06\n",
      "Name: nb_sold, dtype: float64\n"
     ]
    }
   ],
   "source": [
    "import numpy as np\n",
    "import pandas as pd\n",
    "import matplotlib.pyplot as plt\n",
    "\n",
    "avocados = pd.read_csv('C:/Users/nswat/Documents/DataCamp/Datasets/3DataManipulationWPandas/avocados.csv')\n",
    "\n",
    "avg_sold_by_size = avocados.groupby('size')['nb_sold'].mean()\n",
    "print(avg_sold_by_size)"
   ]
  }
 ],
 "metadata": {
  "kernelspec": {
   "display_name": "Python 3",
   "language": "python",
   "name": "python3"
  },
  "language_info": {
   "codemirror_mode": {
    "name": "ipython",
    "version": 3
   },
   "file_extension": ".py",
   "mimetype": "text/x-python",
   "name": "python",
   "nbconvert_exporter": "python",
   "pygments_lexer": "ipython3",
   "version": "3.8.8"
  }
 },
 "nbformat": 4,
 "nbformat_minor": 5
}
