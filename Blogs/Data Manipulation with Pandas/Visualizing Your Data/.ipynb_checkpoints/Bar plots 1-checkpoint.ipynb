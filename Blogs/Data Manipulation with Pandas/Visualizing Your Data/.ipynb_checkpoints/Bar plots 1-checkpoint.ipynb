{
 "cells": [
  {
   "cell_type": "code",
   "execution_count": 8,
   "id": "e63c7ac0",
   "metadata": {
    "scrolled": true
   },
   "outputs": [
    {
     "name": "stdout",
     "output_type": "stream",
     "text": [
      "year\n",
      "2015    1.257404\n",
      "2016    1.263558\n",
      "2017    1.436604\n",
      "2018    1.307083\n",
      "Name: avg_price, dtype: float64\n"
     ]
    }
   ],
   "source": [
    "import numpy as np\n",
    "import pandas as pd\n",
    "import matplotlib.pyplot as plt\n",
    "\n",
    "avocados = pd.read_csv('C:/Users/nswat/Documents/DataCamp/Datasets/3DataManipulationWPandas/avocados.csv')\n",
    "\n",
    "avg_price_by_year = avocados.groupby('year')['avg_price'].mean()\n",
    "print(avg_price_by_year)"
   ]
  }
 ],
 "metadata": {
  "kernelspec": {
   "display_name": "Python 3",
   "language": "python",
   "name": "python3"
  },
  "language_info": {
   "codemirror_mode": {
    "name": "ipython",
    "version": 3
   },
   "file_extension": ".py",
   "mimetype": "text/x-python",
   "name": "python",
   "nbconvert_exporter": "python",
   "pygments_lexer": "ipython3",
   "version": "3.8.8"
  }
 },
 "nbformat": 4,
 "nbformat_minor": 5
}
