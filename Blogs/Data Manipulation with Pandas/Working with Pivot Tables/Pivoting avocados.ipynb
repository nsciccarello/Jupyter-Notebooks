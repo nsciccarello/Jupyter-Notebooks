{
 "cells": [
  {
   "cell_type": "code",
   "execution_count": 5,
   "id": "2b03b141",
   "metadata": {},
   "outputs": [
    {
     "name": "stdout",
     "output_type": "stream",
     "text": [
      "size          extra_large     large     small\n",
      "type                                         \n",
      "conventional     1.092012  1.092012  1.092012\n",
      "organic          1.546036  1.546036  1.546036\n"
     ]
    }
   ],
   "source": [
    "import numpy as np\n",
    "import pandas as pd\n",
    "avocados = pd.read_csv('C:/Users/nswat/Documents/DataCamp/Datasets/3DataManipulationWPandas/avocados.csv')\n",
    "\n",
    "av_price_by_type_size = avocados.pivot_table('avg_price', index='type', columns='size')\n",
    "print(av_price_by_type_size)"
   ]
  }
 ],
 "metadata": {
  "kernelspec": {
   "display_name": "Python 3",
   "language": "python",
   "name": "python3"
  },
  "language_info": {
   "codemirror_mode": {
    "name": "ipython",
    "version": 3
   },
   "file_extension": ".py",
   "mimetype": "text/x-python",
   "name": "python",
   "nbconvert_exporter": "python",
   "pygments_lexer": "ipython3",
   "version": "3.8.8"
  }
 },
 "nbformat": 4,
 "nbformat_minor": 5
}
