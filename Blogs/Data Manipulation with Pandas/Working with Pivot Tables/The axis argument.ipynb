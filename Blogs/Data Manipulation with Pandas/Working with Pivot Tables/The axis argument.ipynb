{
 "cells": [
  {
   "cell_type": "code",
   "execution_count": 1,
   "id": "2b03b141",
   "metadata": {},
   "outputs": [
    {
     "data": {
      "text/plain": [
       "type\n",
       "conventional    1.092012\n",
       "organic         1.546036\n",
       "dtype: float64"
      ]
     },
     "execution_count": 1,
     "metadata": {},
     "output_type": "execute_result"
    }
   ],
   "source": [
    "import numpy as np\n",
    "import pandas as pd\n",
    "avocados = pd.read_csv('C:/Users/nswat/Documents/DataCamp/Datasets/3DataManipulationWPandas/avocados.csv')\n",
    "\n",
    "av_price_by_size_type = avocados.pivot_table('avg_price', index='size', columns='type')\n",
    "\n",
    "av_price_by_size_type.mean(axis='index')"
   ]
  }
 ],
 "metadata": {
  "kernelspec": {
   "display_name": "Python 3",
   "language": "python",
   "name": "python3"
  },
  "language_info": {
   "codemirror_mode": {
    "name": "ipython",
    "version": 3
   },
   "file_extension": ".py",
   "mimetype": "text/x-python",
   "name": "python",
   "nbconvert_exporter": "python",
   "pygments_lexer": "ipython3",
   "version": "3.8.8"
  }
 },
 "nbformat": 4,
 "nbformat_minor": 5
}
