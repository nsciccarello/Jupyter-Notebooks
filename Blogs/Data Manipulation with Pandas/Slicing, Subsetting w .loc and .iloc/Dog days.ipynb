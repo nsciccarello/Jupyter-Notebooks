{
 "cells": [
  {
   "cell_type": "code",
   "execution_count": 7,
   "id": "7d88f314",
   "metadata": {},
   "outputs": [
    {
     "name": "stdout",
     "output_type": "stream",
     "text": [
      "                  name        breed  color  height_cm  weight_kg\n",
      "date_of_birth                                                   \n",
      "2011-12-11      Cooper    Schnauzer   Gray         49         17\n",
      "2013-07-01       Bella     Labrador  Brown         56         24\n",
      "2014-08-25        Lucy    Chow Chow  Brown         46         24\n",
      "2015-04-20      Stella    Chihuahua    Tan         18          2\n",
      "2016-09-16     Charlie       Poodle  Black         43         24\n",
      "2017-01-20         Max     Labrador  Black         59         29\n",
      "2018-02-27      Bernie  St. Bernard  White         77         74\n"
     ]
    }
   ],
   "source": [
    "import numpy as np\n",
    "import pandas as pd\n",
    "dogs = pd.read_csv('C:/Users/nswat/Documents/DataCamp/Datasets/PersonalDatasets/dogs.csv')\n",
    "\n",
    "dogs = dogs.set_index('date_of_birth').sort_index()\n",
    "print(dogs)"
   ]
  }
 ],
 "metadata": {
  "kernelspec": {
   "display_name": "Python 3",
   "language": "python",
   "name": "python3"
  },
  "language_info": {
   "codemirror_mode": {
    "name": "ipython",
    "version": 3
   },
   "file_extension": ".py",
   "mimetype": "text/x-python",
   "name": "python",
   "nbconvert_exporter": "python",
   "pygments_lexer": "ipython3",
   "version": "3.8.8"
  }
 },
 "nbformat": 4,
 "nbformat_minor": 5
}
