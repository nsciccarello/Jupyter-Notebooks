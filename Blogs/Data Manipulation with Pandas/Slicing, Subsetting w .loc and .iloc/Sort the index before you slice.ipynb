{
 "cells": [
  {
   "cell_type": "code",
   "execution_count": 1,
   "id": "04cf4b96",
   "metadata": {},
   "outputs": [
    {
     "name": "stdout",
     "output_type": "stream",
     "text": [
      "                      name  height_cm  weight_kg date_of_birth\n",
      "breed       color                                             \n",
      "Chihuahua   Tan     Stella         18          2    2015-04-20\n",
      "Chow Chow   Brown     Lucy         46         24    2014-08-25\n",
      "Labrador    Black      Max         59         29    2017-01-20\n",
      "            Brown    Bella         56         24    2013-07-01\n",
      "Poodle      Black  Charlie         43         24    2016-09-16\n",
      "Schnauzer   Gray    Cooper         49         17    2011-12-11\n",
      "St. Bernard White   Bernie         77         74    2018-02-27\n"
     ]
    }
   ],
   "source": [
    "import numpy as np\n",
    "import pandas as pd\n",
    "dogs = pd.read_csv('C:/Users/nswat/Documents/DataCamp/Datasets/PersonalDatasets/dogs.csv')\n",
    "\n",
    "dogs_srt = dogs.set_index(['breed', 'color']).sort_index()\n",
    "print(dogs_srt)"
   ]
  }
 ],
 "metadata": {
  "kernelspec": {
   "display_name": "Python 3",
   "language": "python",
   "name": "python3"
  },
  "language_info": {
   "codemirror_mode": {
    "name": "ipython",
    "version": 3
   },
   "file_extension": ".py",
   "mimetype": "text/x-python",
   "name": "python",
   "nbconvert_exporter": "python",
   "pygments_lexer": "ipython3",
   "version": "3.8.8"
  }
 },
 "nbformat": 4,
 "nbformat_minor": 5
}
