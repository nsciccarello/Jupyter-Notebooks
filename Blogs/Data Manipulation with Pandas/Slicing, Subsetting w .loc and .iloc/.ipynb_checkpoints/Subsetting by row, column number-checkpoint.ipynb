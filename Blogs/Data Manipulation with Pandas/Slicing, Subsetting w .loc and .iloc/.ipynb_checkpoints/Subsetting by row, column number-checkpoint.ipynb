{
 "cells": [
  {
   "cell_type": "code",
   "execution_count": 1,
   "id": "d1a84e5d",
   "metadata": {},
   "outputs": [
    {
     "name": "stdout",
     "output_type": "stream",
     "text": [
      "                   breed  color  height_cm\n",
      "date_of_birth                             \n",
      "2014-08-25     Chow Chow  Brown         46\n",
      "2015-04-20     Chihuahua    Tan         18\n",
      "2016-09-16        Poodle  Black         43\n"
     ]
    }
   ],
   "source": [
    "import numpy as np\n",
    "import pandas as pd\n",
    "dogs = pd.read_csv('C:/Users/nswat/Documents/DataCamp/Datasets/PersonalDatasets/dogs.csv')\n",
    "\n",
    "dogs = dogs.set_index('date_of_birth').sort_index()\n",
    "\n",
    "print(dogs.iloc[2:5, 1:4])"
   ]
  }
 ],
 "metadata": {
  "kernelspec": {
   "display_name": "Python 3",
   "language": "python",
   "name": "python3"
  },
  "language_info": {
   "codemirror_mode": {
    "name": "ipython",
    "version": 3
   },
   "file_extension": ".py",
   "mimetype": "text/x-python",
   "name": "python",
   "nbconvert_exporter": "python",
   "pygments_lexer": "ipython3",
   "version": "3.8.8"
  }
 },
 "nbformat": 4,
 "nbformat_minor": 5
}
