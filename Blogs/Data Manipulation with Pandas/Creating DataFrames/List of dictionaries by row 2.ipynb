{
 "cells": [
  {
   "cell_type": "code",
   "execution_count": 3,
   "id": "b4c1428b",
   "metadata": {},
   "outputs": [
    {
     "data": {
      "text/html": [
       "<div>\n",
       "<style scoped>\n",
       "    .dataframe tbody tr th:only-of-type {\n",
       "        vertical-align: middle;\n",
       "    }\n",
       "\n",
       "    .dataframe tbody tr th {\n",
       "        vertical-align: top;\n",
       "    }\n",
       "\n",
       "    .dataframe thead th {\n",
       "        text-align: right;\n",
       "    }\n",
       "</style>\n",
       "<table border=\"1\" class=\"dataframe\">\n",
       "  <thead>\n",
       "    <tr style=\"text-align: right;\">\n",
       "      <th></th>\n",
       "      <th>name</th>\n",
       "      <th>breed</th>\n",
       "      <th>height_cm</th>\n",
       "      <th>weight_kg</th>\n",
       "      <th>date_of_birth</th>\n",
       "    </tr>\n",
       "  </thead>\n",
       "  <tbody>\n",
       "    <tr>\n",
       "      <th>0</th>\n",
       "      <td>Ginger</td>\n",
       "      <td>Dachshund</td>\n",
       "      <td>22</td>\n",
       "      <td>10</td>\n",
       "      <td>2019-03-14</td>\n",
       "    </tr>\n",
       "    <tr>\n",
       "      <th>1</th>\n",
       "      <td>Scout</td>\n",
       "      <td>Dalmatian</td>\n",
       "      <td>59</td>\n",
       "      <td>25</td>\n",
       "      <td>2019-05-09</td>\n",
       "    </tr>\n",
       "  </tbody>\n",
       "</table>\n",
       "</div>"
      ],
      "text/plain": [
       "     name      breed  height_cm  weight_kg date_of_birth\n",
       "0  Ginger  Dachshund         22         10    2019-03-14\n",
       "1   Scout  Dalmatian         59         25    2019-05-09"
      ]
     },
     "execution_count": 3,
     "metadata": {},
     "output_type": "execute_result"
    }
   ],
   "source": [
    "import pandas as pd \n",
    "list_of_dicts = [\n",
    "    {\"name\": \"Ginger\", \"breed\": \"Dachshund\", \"height_cm\": 22,\n",
    "    \"weight_kg\": 10, \"date_of_birth\": \"2019-03-14\"},\n",
    "    {\"name\": \"Scout\", \"breed\": \"Dalmatian\", \"height_cm\": 59,\n",
    "    \"weight_kg\": 25, \"date_of_birth\": \"2019-05-09\"}\n",
    "]\n",
    "\n",
    "new_dogs = pd.DataFrame(list_of_dicts) \n",
    "new_dogs"
   ]
  }
 ],
 "metadata": {
  "kernelspec": {
   "display_name": "Python 3",
   "language": "python",
   "name": "python3"
  },
  "language_info": {
   "codemirror_mode": {
    "name": "ipython",
    "version": 3
   },
   "file_extension": ".py",
   "mimetype": "text/x-python",
   "name": "python",
   "nbconvert_exporter": "python",
   "pygments_lexer": "ipython3",
   "version": "3.8.8"
  }
 },
 "nbformat": 4,
 "nbformat_minor": 5
}
