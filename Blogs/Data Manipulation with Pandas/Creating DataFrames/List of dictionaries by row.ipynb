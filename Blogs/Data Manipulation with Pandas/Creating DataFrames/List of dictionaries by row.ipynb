{
 "cells": [
  {
   "cell_type": "code",
   "execution_count": 1,
   "id": "b4c1428b",
   "metadata": {},
   "outputs": [],
   "source": [
    "list_of_dicts = [\n",
    "    {\"name\": \"Ginger\", \"breed\": \"Dachshund\", \"height_cm\": 22,\n",
    "    \"weight_kg\": 10, \"date_of_birth\": \"2019-03-14\"},\n",
    "    {\"name\": \"Scout\", \"breed\": \"Dalmatian\", \"height_cm\": 59,\n",
    "    \"weight_kg\": 25, \"date_of_birth\": \"2019-05-09\"}\n",
    "]"
   ]
  }
 ],
 "metadata": {
  "kernelspec": {
   "display_name": "Python 3",
   "language": "python",
   "name": "python3"
  },
  "language_info": {
   "codemirror_mode": {
    "name": "ipython",
    "version": 3
   },
   "file_extension": ".py",
   "mimetype": "text/x-python",
   "name": "python",
   "nbconvert_exporter": "python",
   "pygments_lexer": "ipython3",
   "version": "3.8.8"
  }
 },
 "nbformat": 4,
 "nbformat_minor": 5
}
