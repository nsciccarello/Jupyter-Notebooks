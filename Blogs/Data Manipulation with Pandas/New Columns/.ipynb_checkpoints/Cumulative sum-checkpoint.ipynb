{
 "cells": [
  {
   "cell_type": "code",
   "execution_count": 1,
   "id": "c354700f",
   "metadata": {},
   "outputs": [
    {
     "data": {
      "text/plain": [
       "0    24\n",
       "1    24\n",
       "2    24\n",
       "3    17\n",
       "4    29\n",
       "5     2\n",
       "6    74\n",
       "Name: weight_kg, dtype: int64"
      ]
     },
     "execution_count": 1,
     "metadata": {},
     "output_type": "execute_result"
    }
   ],
   "source": [
    "import pandas as pd\n",
    "dogs = pd.read_csv('C:/Users/nswat/Documents/DataCamp/Datasets/PersonalDatasets/dogs.csv')\n",
    "\n",
    "#Dogs' weight\n",
    "dogs['weight_kg']"
   ]
  },
  {
   "cell_type": "code",
   "execution_count": 2,
   "id": "12ae5728",
   "metadata": {},
   "outputs": [
    {
     "data": {
      "text/plain": [
       "0     24\n",
       "1     48\n",
       "2     72\n",
       "3     89\n",
       "4    118\n",
       "5    120\n",
       "6    194\n",
       "Name: weight_kg, dtype: int64"
      ]
     },
     "execution_count": 2,
     "metadata": {},
     "output_type": "execute_result"
    }
   ],
   "source": [
    "#Cumulative sum of dogs' weight\n",
    "dogs['weight_kg'].cumsum()"
   ]
  }
 ],
 "metadata": {
  "kernelspec": {
   "display_name": "Python 3",
   "language": "python",
   "name": "python3"
  },
  "language_info": {
   "codemirror_mode": {
    "name": "ipython",
    "version": 3
   },
   "file_extension": ".py",
   "mimetype": "text/x-python",
   "name": "python",
   "nbconvert_exporter": "python",
   "pygments_lexer": "ipython3",
   "version": "3.8.8"
  }
 },
 "nbformat": 4,
 "nbformat_minor": 5
}
