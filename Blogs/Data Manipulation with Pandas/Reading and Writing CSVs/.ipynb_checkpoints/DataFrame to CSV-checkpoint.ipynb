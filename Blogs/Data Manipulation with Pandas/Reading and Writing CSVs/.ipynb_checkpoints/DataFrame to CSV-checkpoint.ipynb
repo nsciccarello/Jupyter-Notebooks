{
 "cells": [
  {
   "cell_type": "code",
   "execution_count": 2,
   "id": "e68ebb14",
   "metadata": {},
   "outputs": [],
   "source": [
    "import pandas as pd\n",
    "new_dogs = pd.read_csv('C:/Users/nswat/Documents/DataCamp/Datasets/PersonalDatasets/new_dogs.csv')\n",
    "\n",
    "new_dogs['bmi'] = new_dogs['weight_kg'] / (new_dogs['height_cm'] / 100) ** 2\n",
    "\n",
    "# Save updated DataFrame as .csv file\n",
    "new_dogs.to_csv('C:/Users/nswat/Documents/DataCamp/Datasets/PersonalDatasets/new_dogs_with_bmi.csv')"
   ]
  }
 ],
 "metadata": {
  "kernelspec": {
   "display_name": "Python 3",
   "language": "python",
   "name": "python3"
  },
  "language_info": {
   "codemirror_mode": {
    "name": "ipython",
    "version": 3
   },
   "file_extension": ".py",
   "mimetype": "text/x-python",
   "name": "python",
   "nbconvert_exporter": "python",
   "pygments_lexer": "ipython3",
   "version": "3.8.8"
  }
 },
 "nbformat": 4,
 "nbformat_minor": 5
}
