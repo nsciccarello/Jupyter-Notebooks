{
 "cells": [
  {
   "cell_type": "code",
   "execution_count": 1,
   "id": "595dcd88",
   "metadata": {},
   "outputs": [
    {
     "name": "stdout",
     "output_type": "stream",
     "text": [
      "        Name  Age Favorite Color Favorite Subject Hair Color\n",
      "0    Melanie   12         Purple        Astronomy      Black\n",
      "1       John   11           Blue        Chemistry      Brown\n",
      "2     Ashley   13           Pink            Music     Blonde\n",
      "3       Eric   10          Green          Algebra        Red\n",
      "4  Stephanie   13         Yellow          English      Brown\n"
     ]
    }
   ],
   "source": [
    "import pandas as pd\n",
    "names = pd.read_csv('C:/Users/nswat/Documents/DataCamp/Datasets/PersonalDatasets/NameList1.csv')\n",
    "\n",
    "#head method\n",
    "print(names.head())"
   ]
  }
 ],
 "metadata": {
  "kernelspec": {
   "display_name": "Python 3",
   "language": "python",
   "name": "python3"
  },
  "language_info": {
   "codemirror_mode": {
    "name": "ipython",
    "version": 3
   },
   "file_extension": ".py",
   "mimetype": "text/x-python",
   "name": "python",
   "nbconvert_exporter": "python",
   "pygments_lexer": "ipython3",
   "version": "3.8.8"
  }
 },
 "nbformat": 4,
 "nbformat_minor": 5
}
