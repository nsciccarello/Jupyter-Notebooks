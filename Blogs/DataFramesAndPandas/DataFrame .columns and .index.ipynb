{
 "cells": [
  {
   "cell_type": "code",
   "execution_count": 1,
   "id": "d73f4b76",
   "metadata": {},
   "outputs": [
    {
     "name": "stdout",
     "output_type": "stream",
     "text": [
      "Index(['Name', 'Age', 'Favorite Color', 'Favorite Subject', 'Hair Color'], dtype='object')\n"
     ]
    }
   ],
   "source": [
    "import pandas as pd\n",
    "names = pd.read_csv('C:/Users/nswat/Documents/DataCamp/Datasets/PersonalDatasets/NameList1.csv')\n",
    "\n",
    "#print the dataframe's columns\n",
    "print(names.columns)"
   ]
  },
  {
   "cell_type": "code",
   "execution_count": 2,
   "id": "f048a67b",
   "metadata": {},
   "outputs": [
    {
     "name": "stdout",
     "output_type": "stream",
     "text": [
      "RangeIndex(start=0, stop=7, step=1)\n"
     ]
    }
   ],
   "source": [
    "#print the dataframe's index info\n",
    "print(names.index)"
   ]
  }
 ],
 "metadata": {
  "kernelspec": {
   "display_name": "Python 3",
   "language": "python",
   "name": "python3"
  },
  "language_info": {
   "codemirror_mode": {
    "name": "ipython",
    "version": 3
   },
   "file_extension": ".py",
   "mimetype": "text/x-python",
   "name": "python",
   "nbconvert_exporter": "python",
   "pygments_lexer": "ipython3",
   "version": "3.8.8"
  }
 },
 "nbformat": 4,
 "nbformat_minor": 5
}
