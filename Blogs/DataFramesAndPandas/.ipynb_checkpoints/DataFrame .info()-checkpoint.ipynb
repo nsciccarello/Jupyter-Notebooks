{
 "cells": [
  {
   "cell_type": "code",
   "execution_count": 1,
   "id": "779c8135",
   "metadata": {},
   "outputs": [
    {
     "name": "stdout",
     "output_type": "stream",
     "text": [
      "<class 'pandas.core.frame.DataFrame'>\n",
      "RangeIndex: 7 entries, 0 to 6\n",
      "Data columns (total 5 columns):\n",
      " #   Column            Non-Null Count  Dtype \n",
      "---  ------            --------------  ----- \n",
      " 0   Name              7 non-null      object\n",
      " 1   Age               7 non-null      int64 \n",
      " 2   Favorite Color    7 non-null      object\n",
      " 3   Favorite Subject  7 non-null      object\n",
      " 4   Hair Color        7 non-null      object\n",
      "dtypes: int64(1), object(4)\n",
      "memory usage: 408.0+ bytes\n",
      "None\n"
     ]
    }
   ],
   "source": [
    "import pandas as pd\n",
    "names = pd.read_csv('C:/Users/nswat/Documents/DataCamp/Datasets/PersonalDatasets/NameList1.csv')\n",
    "\n",
    "print(names.info())"
   ]
  }
 ],
 "metadata": {
  "kernelspec": {
   "display_name": "Python 3",
   "language": "python",
   "name": "python3"
  },
  "language_info": {
   "codemirror_mode": {
    "name": "ipython",
    "version": 3
   },
   "file_extension": ".py",
   "mimetype": "text/x-python",
   "name": "python",
   "nbconvert_exporter": "python",
   "pygments_lexer": "ipython3",
   "version": "3.8.8"
  }
 },
 "nbformat": 4,
 "nbformat_minor": 5
}
