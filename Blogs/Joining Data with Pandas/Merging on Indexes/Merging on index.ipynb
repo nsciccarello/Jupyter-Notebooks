{
 "cells": [
  {
   "cell_type": "code",
   "execution_count": 5,
   "id": "a0e76db4",
   "metadata": {},
   "outputs": [
    {
     "name": "stdout",
     "output_type": "stream",
     "text": [
      "      id        original_title  popularity release_date  \\\n",
      "0    257          Oliver Twist   20.415572    9/23/2005   \n",
      "1  14290  Better Luck Tomorrow    3.877036    1/12/2002   \n",
      "2  38365             Grown Ups   38.864027    6/24/2010   \n",
      "3   9672              Infamous    3.680896   11/16/2006   \n",
      "4  12819       Alpha and Omega   12.300789    9/17/2010   \n",
      "\n",
      "                                           tagline  \n",
      "0                                              NaN  \n",
      "1             Never underestimate an overachiever.  \n",
      "2  Boys will be boys. . . some longer than others.  \n",
      "3          There's more to the story than you know  \n",
      "4                           A Pawsome 3D Adventure  \n"
     ]
    }
   ],
   "source": [
    "import pandas as pd\n",
    "movies = pd.read_csv('C:/Users/nswat/Documents/DataCamp/Datasets/4JoiningDataWPandasDatasets/movies.csv', \n",
    "                     index_col=['id'])\n",
    "taglines = pd.read_csv('C:/Users/nswat/Documents/DataCamp/Datasets/4JoiningDataWPandasDatasets/taglines.csv')\n",
    "\n",
    "movies_taglines = movies.merge(taglines, on='id', how='left')\n",
    "print(movies_taglines.head())"
   ]
  },
  {
   "cell_type": "code",
   "execution_count": null,
   "id": "206072a0",
   "metadata": {},
   "outputs": [],
   "source": []
  }
 ],
 "metadata": {
  "kernelspec": {
   "display_name": "Python 3",
   "language": "python",
   "name": "python3"
  },
  "language_info": {
   "codemirror_mode": {
    "name": "ipython",
    "version": 3
   },
   "file_extension": ".py",
   "mimetype": "text/x-python",
   "name": "python",
   "nbconvert_exporter": "python",
   "pygments_lexer": "ipython3",
   "version": "3.8.8"
  }
 },
 "nbformat": 4,
 "nbformat_minor": 5
}
