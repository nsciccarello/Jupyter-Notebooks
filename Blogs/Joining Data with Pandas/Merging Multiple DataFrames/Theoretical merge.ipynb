{
 "cells": [
  {
   "cell_type": "code",
   "execution_count": 2,
   "id": "231c0c53",
   "metadata": {},
   "outputs": [
    {
     "name": "stdout",
     "output_type": "stream",
     "text": [
      "           grant           company  account  ward              business\n",
      "246752  42937.04  Grandstand, Ltd.   307071     3  REGGIE'S BAR & GRILL\n",
      "246950   5831.25  Grandstand, Ltd.   307071     3  REGGIE'S BAR & GRILL\n"
     ]
    }
   ],
   "source": [
    "import pandas as pd\n",
    "grants = pd.read_csv('C:/Users/nswat/Documents/DataCamp/Datasets/4JoiningDataWPandasDatasets/Small_Business_Grant_Agreements.csv')\n",
    "licenses = pd.read_csv('C:/Users/nswat/Documents/DataCamp/Datasets/4JoiningDataWPandasDatasets/licenses.csv')\n",
    "\n",
    "grants_licenses = grants.merge(licenses, on='zip')\n",
    "print(grants_licenses.loc[grants_licenses['business']==\"REGGIE'S BAR & GRILL\",\n",
    "                                         ['grant', 'company', 'account', 'ward', 'business']])"
   ]
  }
 ],
 "metadata": {
  "kernelspec": {
   "display_name": "Python 3",
   "language": "python",
   "name": "python3"
  },
  "language_info": {
   "codemirror_mode": {
    "name": "ipython",
    "version": 3
   },
   "file_extension": ".py",
   "mimetype": "text/x-python",
   "name": "python",
   "nbconvert_exporter": "python",
   "pygments_lexer": "ipython3",
   "version": "3.8.8"
  }
 },
 "nbformat": 4,
 "nbformat_minor": 5
}
