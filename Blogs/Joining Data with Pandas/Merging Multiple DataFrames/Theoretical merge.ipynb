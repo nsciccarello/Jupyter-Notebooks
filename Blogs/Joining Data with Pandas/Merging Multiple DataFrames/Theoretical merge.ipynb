{
 "cells": [
  {
   "cell_type": "code",
   "execution_count": 6,
   "id": "231c0c53",
   "metadata": {},
   "outputs": [
    {
     "data": {
      "text/html": [
       "<div>\n",
       "<style scoped>\n",
       "    .dataframe tbody tr th:only-of-type {\n",
       "        vertical-align: middle;\n",
       "    }\n",
       "\n",
       "    .dataframe tbody tr th {\n",
       "        vertical-align: top;\n",
       "    }\n",
       "\n",
       "    .dataframe thead th {\n",
       "        text-align: right;\n",
       "    }\n",
       "</style>\n",
       "<table border=\"1\" class=\"dataframe\">\n",
       "  <thead>\n",
       "    <tr style=\"text-align: right;\">\n",
       "      <th></th>\n",
       "      <th>grant</th>\n",
       "      <th>company</th>\n",
       "      <th>account</th>\n",
       "      <th>ward</th>\n",
       "      <th>business</th>\n",
       "    </tr>\n",
       "  </thead>\n",
       "  <tbody>\n",
       "    <tr>\n",
       "      <th>123019</th>\n",
       "      <td>13500.00</td>\n",
       "      <td>Hair Mechanic's Salon</td>\n",
       "      <td>307071</td>\n",
       "      <td>3</td>\n",
       "      <td>REGGIE'S BAR &amp; GRILL</td>\n",
       "    </tr>\n",
       "    <tr>\n",
       "      <th>123217</th>\n",
       "      <td>37125.00</td>\n",
       "      <td>West 60622 Family &amp; Community Development Coun...</td>\n",
       "      <td>307071</td>\n",
       "      <td>3</td>\n",
       "      <td>REGGIE'S BAR &amp; GRILL</td>\n",
       "    </tr>\n",
       "    <tr>\n",
       "      <th>123415</th>\n",
       "      <td>6305.03</td>\n",
       "      <td>Hair Mechanic's Salon</td>\n",
       "      <td>307071</td>\n",
       "      <td>3</td>\n",
       "      <td>REGGIE'S BAR &amp; GRILL</td>\n",
       "    </tr>\n",
       "    <tr>\n",
       "      <th>123613</th>\n",
       "      <td>144200.00</td>\n",
       "      <td>Celadon Holdings, LLC / Celadon-Pulaski, LLC</td>\n",
       "      <td>307071</td>\n",
       "      <td>3</td>\n",
       "      <td>REGGIE'S BAR &amp; GRILL</td>\n",
       "    </tr>\n",
       "    <tr>\n",
       "      <th>123811</th>\n",
       "      <td>25559.50</td>\n",
       "      <td>Frank Williams Enterprises</td>\n",
       "      <td>307071</td>\n",
       "      <td>3</td>\n",
       "      <td>REGGIE'S BAR &amp; GRILL</td>\n",
       "    </tr>\n",
       "  </tbody>\n",
       "</table>\n",
       "</div>"
      ],
      "text/plain": [
       "            grant                                            company  account  \\\n",
       "123019   13500.00                              Hair Mechanic's Salon   307071   \n",
       "123217   37125.00  West 60622 Family & Community Development Coun...   307071   \n",
       "123415    6305.03                              Hair Mechanic's Salon   307071   \n",
       "123613  144200.00       Celadon Holdings, LLC / Celadon-Pulaski, LLC   307071   \n",
       "123811   25559.50                         Frank Williams Enterprises   307071   \n",
       "\n",
       "        ward              business  \n",
       "123019     3  REGGIE'S BAR & GRILL  \n",
       "123217     3  REGGIE'S BAR & GRILL  \n",
       "123415     3  REGGIE'S BAR & GRILL  \n",
       "123613     3  REGGIE'S BAR & GRILL  \n",
       "123811     3  REGGIE'S BAR & GRILL  "
      ]
     },
     "execution_count": 6,
     "metadata": {},
     "output_type": "execute_result"
    }
   ],
   "source": [
    "import pandas as pd\n",
    "grants = pd.read_csv('C:/Users/nswat/Documents/DataCamp/Datasets/4JoiningDataWPandasDatasets/Small_Business_Grant_Agreements3.csv')\n",
    "licenses = pd.read_csv('C:/Users/nswat/Documents/DataCamp/Datasets/4JoiningDataWPandasDatasets/licenses.csv')\n",
    "\n",
    "grants_licenses = grants.merge(licenses, on='zip')\n",
    "\n",
    "grants_licenses.loc[grants_licenses['business']==\"REGGIE'S BAR & GRILL\",\n",
    "                                         ['grant', 'company', 'account', 'ward', 'business']].head()"
   ]
  }
 ],
 "metadata": {
  "kernelspec": {
   "display_name": "Python 3",
   "language": "python",
   "name": "python3"
  },
  "language_info": {
   "codemirror_mode": {
    "name": "ipython",
    "version": 3
   },
   "file_extension": ".py",
   "mimetype": "text/x-python",
   "name": "python",
   "nbconvert_exporter": "python",
   "pygments_lexer": "ipython3",
   "version": "3.8.8"
  }
 },
 "nbformat": 4,
 "nbformat_minor": 5
}
