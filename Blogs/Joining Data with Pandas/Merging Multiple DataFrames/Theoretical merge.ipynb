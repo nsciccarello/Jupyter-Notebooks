{
 "cells": [
  {
   "cell_type": "code",
   "execution_count": 4,
   "id": "231c0c53",
   "metadata": {},
   "outputs": [
    {
     "data": {
      "text/html": [
       "<div>\n",
       "<style scoped>\n",
       "    .dataframe tbody tr th:only-of-type {\n",
       "        vertical-align: middle;\n",
       "    }\n",
       "\n",
       "    .dataframe tbody tr th {\n",
       "        vertical-align: top;\n",
       "    }\n",
       "\n",
       "    .dataframe thead th {\n",
       "        text-align: right;\n",
       "    }\n",
       "</style>\n",
       "<table border=\"1\" class=\"dataframe\">\n",
       "  <thead>\n",
       "    <tr style=\"text-align: right;\">\n",
       "      <th></th>\n",
       "      <th>grant</th>\n",
       "      <th>company</th>\n",
       "      <th>account</th>\n",
       "      <th>ward</th>\n",
       "      <th>business</th>\n",
       "    </tr>\n",
       "  </thead>\n",
       "  <tbody>\n",
       "    <tr>\n",
       "      <th>247467</th>\n",
       "      <td>42937.04</td>\n",
       "      <td>Grandstand, Ltd.</td>\n",
       "      <td>307071</td>\n",
       "      <td>3</td>\n",
       "      <td>REGGIE'S BAR &amp; GRILL</td>\n",
       "    </tr>\n",
       "    <tr>\n",
       "      <th>247665</th>\n",
       "      <td>5831.25</td>\n",
       "      <td>Grandstand, Ltd.</td>\n",
       "      <td>307071</td>\n",
       "      <td>3</td>\n",
       "      <td>REGGIE'S BAR &amp; GRILL</td>\n",
       "    </tr>\n",
       "    <tr>\n",
       "      <th>247863</th>\n",
       "      <td>743.00</td>\n",
       "      <td>REGGIE'S BAR &amp; GRILL</td>\n",
       "      <td>307071</td>\n",
       "      <td>3</td>\n",
       "      <td>REGGIE'S BAR &amp; GRILL</td>\n",
       "    </tr>\n",
       "  </tbody>\n",
       "</table>\n",
       "</div>"
      ],
      "text/plain": [
       "           grant               company  account  ward              business\n",
       "247467  42937.04      Grandstand, Ltd.   307071     3  REGGIE'S BAR & GRILL\n",
       "247665   5831.25      Grandstand, Ltd.   307071     3  REGGIE'S BAR & GRILL\n",
       "247863    743.00  REGGIE'S BAR & GRILL   307071     3  REGGIE'S BAR & GRILL"
      ]
     },
     "execution_count": 4,
     "metadata": {},
     "output_type": "execute_result"
    }
   ],
   "source": [
    "import pandas as pd\n",
    "grants = pd.read_csv('C:/Users/nswat/Documents/DataCamp/Datasets/4JoiningDataWPandasDatasets/Small_Business_Grant_Agreements2.csv')\n",
    "licenses = pd.read_csv('C:/Users/nswat/Documents/DataCamp/Datasets/4JoiningDataWPandasDatasets/licenses.csv')\n",
    "\n",
    "grants_licenses = grants.merge(licenses, on='zip')\n",
    "\n",
    "grants_licenses.loc[grants_licenses['business']==\"REGGIE'S BAR & GRILL\",\n",
    "                                         ['grant', 'company', 'account', 'ward', 'business']]"
   ]
  }
 ],
 "metadata": {
  "kernelspec": {
   "display_name": "Python 3",
   "language": "python",
   "name": "python3"
  },
  "language_info": {
   "codemirror_mode": {
    "name": "ipython",
    "version": 3
   },
   "file_extension": ".py",
   "mimetype": "text/x-python",
   "name": "python",
   "nbconvert_exporter": "python",
   "pygments_lexer": "ipython3",
   "version": "3.8.8"
  }
 },
 "nbformat": 4,
 "nbformat_minor": 5
}
