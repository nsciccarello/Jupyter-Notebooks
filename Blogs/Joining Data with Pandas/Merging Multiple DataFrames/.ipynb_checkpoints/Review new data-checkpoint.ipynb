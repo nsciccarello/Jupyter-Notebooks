{
 "cells": [
  {
   "cell_type": "code",
   "execution_count": 2,
   "id": "231c0c53",
   "metadata": {},
   "outputs": [
    {
     "data": {
      "text/html": [
       "<div>\n",
       "<style scoped>\n",
       "    .dataframe tbody tr th:only-of-type {\n",
       "        vertical-align: middle;\n",
       "    }\n",
       "\n",
       "    .dataframe tbody tr th {\n",
       "        vertical-align: top;\n",
       "    }\n",
       "\n",
       "    .dataframe thead th {\n",
       "        text-align: right;\n",
       "    }\n",
       "</style>\n",
       "<table border=\"1\" class=\"dataframe\">\n",
       "  <thead>\n",
       "    <tr style=\"text-align: right;\">\n",
       "      <th></th>\n",
       "      <th>address</th>\n",
       "      <th>zip</th>\n",
       "      <th>grant</th>\n",
       "      <th>company</th>\n",
       "    </tr>\n",
       "  </thead>\n",
       "  <tbody>\n",
       "    <tr>\n",
       "      <th>0</th>\n",
       "      <td>711 W Grand</td>\n",
       "      <td>60469</td>\n",
       "      <td>121518.6</td>\n",
       "      <td>Emerald Smoke MMA &amp; Fitness</td>\n",
       "    </tr>\n",
       "    <tr>\n",
       "      <th>1</th>\n",
       "      <td>940 W Chicago</td>\n",
       "      <td>60469</td>\n",
       "      <td>34465.2</td>\n",
       "      <td>Empire Cooler Service</td>\n",
       "    </tr>\n",
       "    <tr>\n",
       "      <th>2</th>\n",
       "      <td>940 W Chicago</td>\n",
       "      <td>60469</td>\n",
       "      <td>4612.5</td>\n",
       "      <td>Empire Cooler Service</td>\n",
       "    </tr>\n",
       "    <tr>\n",
       "      <th>3</th>\n",
       "      <td>940 W Chicago</td>\n",
       "      <td>60469</td>\n",
       "      <td>39077.7</td>\n",
       "      <td>Empire Cooler Service</td>\n",
       "    </tr>\n",
       "    <tr>\n",
       "      <th>4</th>\n",
       "      <td>415 North Milwaukee</td>\n",
       "      <td>60469</td>\n",
       "      <td>22420.5</td>\n",
       "      <td>Paramount Rooms</td>\n",
       "    </tr>\n",
       "  </tbody>\n",
       "</table>\n",
       "</div>"
      ],
      "text/plain": [
       "               address    zip     grant                      company\n",
       "0          711 W Grand  60469  121518.6  Emerald Smoke MMA & Fitness\n",
       "1        940 W Chicago  60469   34465.2        Empire Cooler Service\n",
       "2        940 W Chicago  60469    4612.5        Empire Cooler Service\n",
       "3        940 W Chicago  60469   39077.7        Empire Cooler Service\n",
       "4  415 North Milwaukee  60469   22420.5              Paramount Rooms"
      ]
     },
     "execution_count": 2,
     "metadata": {},
     "output_type": "execute_result"
    }
   ],
   "source": [
    "import pandas as pd\n",
    "grants = pd.read_csv('C:/Users/nswat/Documents/DataCamp/Datasets/4JoiningDataWPandasDatasets/Small_Business_Grant_Agreements3.csv')\n",
    "\n",
    "grants.head()"
   ]
  }
 ],
 "metadata": {
  "kernelspec": {
   "display_name": "Python 3",
   "language": "python",
   "name": "python3"
  },
  "language_info": {
   "codemirror_mode": {
    "name": "ipython",
    "version": 3
   },
   "file_extension": ".py",
   "mimetype": "text/x-python",
   "name": "python",
   "nbconvert_exporter": "python",
   "pygments_lexer": "ipython3",
   "version": "3.8.8"
  }
 },
 "nbformat": 4,
 "nbformat_minor": 5
}
