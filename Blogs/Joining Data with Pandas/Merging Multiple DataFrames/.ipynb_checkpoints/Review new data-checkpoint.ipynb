{
 "cells": [
  {
   "cell_type": "code",
   "execution_count": 1,
   "id": "690ef3f1",
   "metadata": {},
   "outputs": [
    {
     "data": {
      "text/html": [
       "<div>\n",
       "<style scoped>\n",
       "    .dataframe tbody tr th:only-of-type {\n",
       "        vertical-align: middle;\n",
       "    }\n",
       "\n",
       "    .dataframe tbody tr th {\n",
       "        vertical-align: top;\n",
       "    }\n",
       "\n",
       "    .dataframe thead th {\n",
       "        text-align: right;\n",
       "    }\n",
       "</style>\n",
       "<table border=\"1\" class=\"dataframe\">\n",
       "  <thead>\n",
       "    <tr style=\"text-align: right;\">\n",
       "      <th></th>\n",
       "      <th>address</th>\n",
       "      <th>zip</th>\n",
       "      <th>grant</th>\n",
       "      <th>company</th>\n",
       "    </tr>\n",
       "  </thead>\n",
       "  <tbody>\n",
       "    <tr>\n",
       "      <th>0</th>\n",
       "      <td>745 S Kedzie</td>\n",
       "      <td>60007.0</td>\n",
       "      <td>44600</td>\n",
       "      <td>NJ Hot Dog Stand</td>\n",
       "    </tr>\n",
       "    <tr>\n",
       "      <th>1</th>\n",
       "      <td>721 S Kedzie</td>\n",
       "      <td>60007.0</td>\n",
       "      <td>50000</td>\n",
       "      <td>LaShaun Dumas</td>\n",
       "    </tr>\n",
       "    <tr>\n",
       "      <th>2</th>\n",
       "      <td>810 S Tripp</td>\n",
       "      <td>60007.0</td>\n",
       "      <td>50000</td>\n",
       "      <td>Kelly's Banquet Hall</td>\n",
       "    </tr>\n",
       "    <tr>\n",
       "      <th>3</th>\n",
       "      <td>3946 W 16th</td>\n",
       "      <td>60007.0</td>\n",
       "      <td>17661.98</td>\n",
       "      <td>Creative Salon 1 Creative</td>\n",
       "    </tr>\n",
       "    <tr>\n",
       "      <th>4</th>\n",
       "      <td>3600 W Roosevelt</td>\n",
       "      <td>60007.0</td>\n",
       "      <td>23445.5</td>\n",
       "      <td>Lawndale Medical</td>\n",
       "    </tr>\n",
       "  </tbody>\n",
       "</table>\n",
       "</div>"
      ],
      "text/plain": [
       "            address      zip     grant                     company\n",
       "0      745 S Kedzie  60007.0     44600            NJ Hot Dog Stand\n",
       "1      721 S Kedzie  60007.0     50000               LaShaun Dumas\n",
       "2       810 S Tripp  60007.0     50000       Kelly's Banquet Hall \n",
       "3       3946 W 16th  60007.0  17661.98  Creative Salon 1 Creative \n",
       "4  3600 W Roosevelt  60007.0   23445.5            Lawndale Medical"
      ]
     },
     "execution_count": 1,
     "metadata": {},
     "output_type": "execute_result"
    }
   ],
   "source": [
    "import pandas as pd\n",
    "grants = pd.read_csv('C:/Users/nswat/Documents/DataCamp/Datasets/4JoiningDataWPandasDatasets/Small_Business_Grant_Agreements.csv')\n",
    "\n",
    "grants.head()"
   ]
  }
 ],
 "metadata": {
  "kernelspec": {
   "display_name": "Python 3",
   "language": "python",
   "name": "python3"
  },
  "language_info": {
   "codemirror_mode": {
    "name": "ipython",
    "version": 3
   },
   "file_extension": ".py",
   "mimetype": "text/x-python",
   "name": "python",
   "nbconvert_exporter": "python",
   "pygments_lexer": "ipython3",
   "version": "3.8.8"
  }
 },
 "nbformat": 4,
 "nbformat_minor": 5
}
