{
 "cells": [
  {
   "cell_type": "code",
   "execution_count": 2,
   "id": "029f1a07",
   "metadata": {
    "scrolled": true
   },
   "outputs": [
    {
     "data": {
      "text/html": [
       "<div>\n",
       "<style scoped>\n",
       "    .dataframe tbody tr th:only-of-type {\n",
       "        vertical-align: middle;\n",
       "    }\n",
       "\n",
       "    .dataframe tbody tr th {\n",
       "        vertical-align: top;\n",
       "    }\n",
       "\n",
       "    .dataframe thead th {\n",
       "        text-align: right;\n",
       "    }\n",
       "</style>\n",
       "<table border=\"1\" class=\"dataframe\">\n",
       "  <thead>\n",
       "    <tr style=\"text-align: right;\">\n",
       "      <th></th>\n",
       "      <th>id</th>\n",
       "      <th>original_title</th>\n",
       "      <th>popularity</th>\n",
       "      <th>release_date</th>\n",
       "      <th>movie_id</th>\n",
       "      <th>genres</th>\n",
       "    </tr>\n",
       "  </thead>\n",
       "  <tbody>\n",
       "    <tr>\n",
       "      <th>0</th>\n",
       "      <td>360603</td>\n",
       "      <td>Crown for Christmas</td>\n",
       "      <td>0.476341</td>\n",
       "      <td>11/27/2015</td>\n",
       "      <td>360603</td>\n",
       "      <td>TV Movie</td>\n",
       "    </tr>\n",
       "    <tr>\n",
       "      <th>1</th>\n",
       "      <td>145711</td>\n",
       "      <td>Naughty or Nice</td>\n",
       "      <td>0.074508</td>\n",
       "      <td>12/24/2012</td>\n",
       "      <td>145711</td>\n",
       "      <td>TV Movie</td>\n",
       "    </tr>\n",
       "    <tr>\n",
       "      <th>2</th>\n",
       "      <td>226360</td>\n",
       "      <td>House of Versace</td>\n",
       "      <td>0.113051</td>\n",
       "      <td>10/4/2013</td>\n",
       "      <td>226360</td>\n",
       "      <td>TV Movie</td>\n",
       "    </tr>\n",
       "  </tbody>\n",
       "</table>\n",
       "</div>"
      ],
      "text/plain": [
       "       id       original_title  popularity release_date  movie_id    genres\n",
       "0  360603  Crown for Christmas    0.476341   11/27/2015    360603  TV Movie\n",
       "1  145711      Naughty or Nice    0.074508   12/24/2012    145711  TV Movie\n",
       "2  226360     House of Versace    0.113051    10/4/2013    226360  TV Movie"
      ]
     },
     "execution_count": 2,
     "metadata": {},
     "output_type": "execute_result"
    }
   ],
   "source": [
    "import pandas as pd\n",
    "movies = pd.read_csv('C:/Users/nswat/Documents/DataCamp/Datasets/4JoiningDataWPandasDatasets/movies2.csv')\n",
    "movie_to_genres = pd.read_csv('C:/Users/nswat/Documents/DataCamp/Datasets/4JoiningDataWPandasDatasets/tmdb_movie_to_genres.csv')\n",
    "\n",
    "m = movie_to_genres['genres'] == 'TV Movie'\n",
    "tv_genre = movie_to_genres[m]\n",
    "\n",
    "tv_movies = movies.merge(tv_genre, how='right', \n",
    "                         left_on='id', right_on='movie_id')\n",
    "\n",
    "tv_movies.head()"
   ]
  }
 ],
 "metadata": {
  "kernelspec": {
   "display_name": "Python 3",
   "language": "python",
   "name": "python3"
  },
  "language_info": {
   "codemirror_mode": {
    "name": "ipython",
    "version": 3
   },
   "file_extension": ".py",
   "mimetype": "text/x-python",
   "name": "python",
   "nbconvert_exporter": "python",
   "pygments_lexer": "ipython3",
   "version": "3.8.8"
  }
 },
 "nbformat": 4,
 "nbformat_minor": 5
}
