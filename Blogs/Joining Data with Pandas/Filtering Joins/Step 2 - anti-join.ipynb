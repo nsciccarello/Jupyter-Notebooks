{
 "cells": [
  {
   "cell_type": "code",
   "execution_count": 2,
   "id": "9a26a52b",
   "metadata": {},
   "outputs": [
    {
     "data": {
      "text/plain": [
       "609    50\n",
       "610    51\n",
       "611    52\n",
       "612    53\n",
       "613    54\n",
       "Name: gid, dtype: int64"
      ]
     },
     "execution_count": 2,
     "metadata": {},
     "output_type": "execute_result"
    }
   ],
   "source": [
    "import pandas as pd\n",
    "top_tracks = pd.read_csv('C:/Users/nswat/Documents/DataCamp/Datasets/4JoiningDataWPandasDatasets/songs.csv')\n",
    "genres = pd.read_csv('C:/Users/nswat/Documents/DataCamp/Datasets/4JoiningDataWPandasDatasets/songgenres2.csv')\n",
    "\n",
    "genres_tracks = genres.merge(top_tracks, on='gid', how='left', indicator=True)\n",
    "\n",
    "gid_list = genres_tracks.loc[genres_tracks['_merge'] == 'left_only', 'gid']\n",
    "\n",
    "gid_list.head()"
   ]
  }
 ],
 "metadata": {
  "kernelspec": {
   "display_name": "Python 3",
   "language": "python",
   "name": "python3"
  },
  "language_info": {
   "codemirror_mode": {
    "name": "ipython",
    "version": 3
   },
   "file_extension": ".py",
   "mimetype": "text/x-python",
   "name": "python",
   "nbconvert_exporter": "python",
   "pygments_lexer": "ipython3",
   "version": "3.8.8"
  }
 },
 "nbformat": 4,
 "nbformat_minor": 5
}
