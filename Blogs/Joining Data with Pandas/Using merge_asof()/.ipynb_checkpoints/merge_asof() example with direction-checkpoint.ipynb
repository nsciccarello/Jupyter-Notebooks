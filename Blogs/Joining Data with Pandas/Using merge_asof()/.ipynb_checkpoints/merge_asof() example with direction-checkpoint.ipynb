{
 "cells": [
  {
   "cell_type": "code",
   "execution_count": 230,
   "id": "644ebf6f",
   "metadata": {
    "scrolled": true
   },
   "outputs": [
    {
     "data": {
      "text/html": [
       "<div>\n",
       "<style scoped>\n",
       "    .dataframe tbody tr th:only-of-type {\n",
       "        vertical-align: middle;\n",
       "    }\n",
       "\n",
       "    .dataframe tbody tr th {\n",
       "        vertical-align: top;\n",
       "    }\n",
       "\n",
       "    .dataframe thead th {\n",
       "        text-align: right;\n",
       "    }\n",
       "</style>\n",
       "<table border=\"1\" class=\"dataframe\">\n",
       "  <thead>\n",
       "    <tr style=\"text-align: right;\">\n",
       "      <th></th>\n",
       "      <th>date_time</th>\n",
       "      <th>close_visa</th>\n",
       "      <th>close_ibm</th>\n",
       "    </tr>\n",
       "  </thead>\n",
       "  <tbody>\n",
       "    <tr>\n",
       "      <th>0</th>\n",
       "      <td>2017-11-17 16:00:00</td>\n",
       "      <td>110.3200</td>\n",
       "      <td>149.11</td>\n",
       "    </tr>\n",
       "    <tr>\n",
       "      <th>1</th>\n",
       "      <td>2017-11-17 17:00:00</td>\n",
       "      <td>110.2400</td>\n",
       "      <td>149.96</td>\n",
       "    </tr>\n",
       "    <tr>\n",
       "      <th>2</th>\n",
       "      <td>2017-11-17 18:00:00</td>\n",
       "      <td>110.0650</td>\n",
       "      <td>149.96</td>\n",
       "    </tr>\n",
       "    <tr>\n",
       "      <th>3</th>\n",
       "      <td>2017-11-17 19:00:00</td>\n",
       "      <td>110.0400</td>\n",
       "      <td>149.96</td>\n",
       "    </tr>\n",
       "    <tr>\n",
       "      <th>4</th>\n",
       "      <td>2017-11-17 20:00:00</td>\n",
       "      <td>110.0000</td>\n",
       "      <td>149.96</td>\n",
       "    </tr>\n",
       "    <tr>\n",
       "      <th>5</th>\n",
       "      <td>2017-11-17 21:00:00</td>\n",
       "      <td>109.9966</td>\n",
       "      <td>149.96</td>\n",
       "    </tr>\n",
       "    <tr>\n",
       "      <th>6</th>\n",
       "      <td>2017-11-17 22:00:00</td>\n",
       "      <td>109.8200</td>\n",
       "      <td>149.96</td>\n",
       "    </tr>\n",
       "  </tbody>\n",
       "</table>\n",
       "</div>"
      ],
      "text/plain": [
       "            date_time  close_visa  close_ibm\n",
       "0 2017-11-17 16:00:00    110.3200     149.11\n",
       "1 2017-11-17 17:00:00    110.2400     149.96\n",
       "2 2017-11-17 18:00:00    110.0650     149.96\n",
       "3 2017-11-17 19:00:00    110.0400     149.96\n",
       "4 2017-11-17 20:00:00    110.0000     149.96\n",
       "5 2017-11-17 21:00:00    109.9966     149.96\n",
       "6 2017-11-17 22:00:00    109.8200     149.96"
      ]
     },
     "execution_count": 230,
     "metadata": {},
     "output_type": "execute_result"
    }
   ],
   "source": [
    "import pandas as pd\n",
    "import numpy as np\n",
    "from datetime import datetime\n",
    "\n",
    "visa = pd.read_csv('C:/Users/nswat/Documents/DataCamp/Datasets/4JoiningDataWPandasDatasets/visa.csv')\n",
    "ibm = pd.read_csv('C:/Users/nswat/Documents/DataCamp/Datasets/4JoiningDataWPandasDatasets/ibm.csv')\n",
    "\n",
    "#Convert values in 'date_time' column to datetime format to ensure the merge_asof function works\n",
    "visa['date_time'] = pd.to_datetime(visa['date_time'], format='%Y-%m-%d %H:%M:%S')\n",
    "ibm['date_time'] = pd.to_datetime(ibm['date_time'], format='%Y-%m-%d %H:%M:%S')\n",
    "\n",
    "pd.merge_asof(visa, ibm, on='date_time', \n",
    "              suffixes=('_visa','_ibm'))"
   ]
  }
 ],
 "metadata": {
  "kernelspec": {
   "display_name": "Python 3",
   "language": "python",
   "name": "python3"
  },
  "language_info": {
   "codemirror_mode": {
    "name": "ipython",
    "version": 3
   },
   "file_extension": ".py",
   "mimetype": "text/x-python",
   "name": "python",
   "nbconvert_exporter": "python",
   "pygments_lexer": "ipython3",
   "version": "3.8.8"
  }
 },
 "nbformat": 4,
 "nbformat_minor": 5
}
