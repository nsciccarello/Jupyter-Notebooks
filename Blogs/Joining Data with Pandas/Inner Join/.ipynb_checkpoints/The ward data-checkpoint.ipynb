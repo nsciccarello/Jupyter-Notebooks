{
 "cells": [
  {
   "cell_type": "code",
   "execution_count": 2,
   "id": "55e47bf3",
   "metadata": {
    "scrolled": true
   },
   "outputs": [
    {
     "name": "stdout",
     "output_type": "stream",
     "text": [
      "   Unnamed: 0  ward            alderman                          address  \\\n",
      "0           0     1  Proco \"Joe\" Moreno        2058 NORTH WESTERN AVENUE   \n",
      "1           1     2       Brian Hopkins       1400 NORTH  ASHLAND AVENUE   \n",
      "2           2     3          Pat Dowell          5046 SOUTH STATE STREET   \n",
      "3           3     4    William D. Burns  435 EAST 35TH STREET, 1ST FLOOR   \n",
      "4           4     5  Leslie A. Hairston            2325 EAST 71ST STREET   \n",
      "\n",
      "     zip  \n",
      "0  60647  \n",
      "1  60622  \n",
      "2  60609  \n",
      "3  60616  \n",
      "4  60649  \n",
      "(50, 5)\n"
     ]
    }
   ],
   "source": [
    "import pandas as pd\n",
    "wards = pd.read_csv('C:/Users/nswat/Documents/DataCamp/Datasets/4JoiningDataWPandasDatasets/ward.csv')\n",
    "\n",
    "print(wards.head())\n",
    "print(wards.shape)"
   ]
  }
 ],
 "metadata": {
  "kernelspec": {
   "display_name": "Python 3",
   "language": "python",
   "name": "python3"
  },
  "language_info": {
   "codemirror_mode": {
    "name": "ipython",
    "version": 3
   },
   "file_extension": ".py",
   "mimetype": "text/x-python",
   "name": "python",
   "nbconvert_exporter": "python",
   "pygments_lexer": "ipython3",
   "version": "3.8.8"
  }
 },
 "nbformat": 4,
 "nbformat_minor": 5
}
