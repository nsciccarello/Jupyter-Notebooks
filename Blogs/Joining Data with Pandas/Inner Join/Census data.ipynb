{
 "cells": [
  {
   "cell_type": "code",
   "execution_count": 1,
   "id": "55e47bf3",
   "metadata": {
    "scrolled": true
   },
   "outputs": [
    {
     "name": "stdout",
     "output_type": "stream",
     "text": [
      "   Unnamed: 0  ward  pop_2000  pop_2010 change  \\\n",
      "0           0     1     52951     56149     6%   \n",
      "1           1     2     54361     55805     3%   \n",
      "2           2     3     40385     53039    31%   \n",
      "3           3     4     51953     54589     5%   \n",
      "4           4     5     55302     51455    -7%   \n",
      "\n",
      "                                   address    zip  \n",
      "0              2765 WEST SAINT MARY STREET  60647  \n",
      "1                 WM WASTE MANAGEMENT 1500  60622  \n",
      "2                      17 EAST 38TH STREET  60653  \n",
      "3  31ST ST HARBOR BUILDING LAKEFRONT TRAIL  60653  \n",
      "4  JACKSON PARK LAGOON SOUTH CORNELL DRIVE  60637  \n",
      "(50, 7)\n"
     ]
    }
   ],
   "source": [
    "import pandas as pd\n",
    "census = pd.read_csv('C:/Users/nswat/Documents/DataCamp/Datasets/4JoiningDataWPandasDatasets/census.csv')\n",
    "\n",
    "print(census.head())\n",
    "print(census.shape)"
   ]
  }
 ],
 "metadata": {
  "kernelspec": {
   "display_name": "Python 3",
   "language": "python",
   "name": "python3"
  },
  "language_info": {
   "codemirror_mode": {
    "name": "ipython",
    "version": 3
   },
   "file_extension": ".py",
   "mimetype": "text/x-python",
   "name": "python",
   "nbconvert_exporter": "python",
   "pygments_lexer": "ipython3",
   "version": "3.8.8"
  }
 },
 "nbformat": 4,
 "nbformat_minor": 5
}
