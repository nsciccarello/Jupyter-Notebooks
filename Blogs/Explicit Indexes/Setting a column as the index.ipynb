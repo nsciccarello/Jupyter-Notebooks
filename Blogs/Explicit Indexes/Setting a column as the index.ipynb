{
 "cells": [
  {
   "cell_type": "code",
   "execution_count": 1,
   "id": "65c21904",
   "metadata": {},
   "outputs": [
    {
     "name": "stdout",
     "output_type": "stream",
     "text": [
      "               breed  color  height_cm  weight_kg date_of_birth\n",
      "name                                                           \n",
      "Bella       Labrador  Brown         56         24    2013-07-01\n",
      "Charlie       Poodle  Black         43         24    2016-09-16\n",
      "Lucy       Chow Chow  Brown         46         24    2014-08-25\n",
      "Cooper     Schnauzer   Gray         49         17    2011-12-11\n",
      "Max         Labrador  Black         59         29    2017-01-20\n",
      "Stella     Chihuahua    Tan         18          2    2015-04-20\n",
      "Bernie   St. Bernard  White         77         74    2018-02-27\n"
     ]
    }
   ],
   "source": [
    "import numpy as np\n",
    "import pandas as pd\n",
    "dogs = pd.read_csv('C:/Users/nswat/Documents/DataCamp/Datasets/PersonalDatasets/dogs.csv')\n",
    "\n",
    "dogs_ind = dogs.set_index('name')\n",
    "print(dogs_ind)"
   ]
  }
 ],
 "metadata": {
  "kernelspec": {
   "display_name": "Python 3",
   "language": "python",
   "name": "python3"
  },
  "language_info": {
   "codemirror_mode": {
    "name": "ipython",
    "version": 3
   },
   "file_extension": ".py",
   "mimetype": "text/x-python",
   "name": "python",
   "nbconvert_exporter": "python",
   "pygments_lexer": "ipython3",
   "version": "3.8.8"
  }
 },
 "nbformat": 4,
 "nbformat_minor": 5
}
