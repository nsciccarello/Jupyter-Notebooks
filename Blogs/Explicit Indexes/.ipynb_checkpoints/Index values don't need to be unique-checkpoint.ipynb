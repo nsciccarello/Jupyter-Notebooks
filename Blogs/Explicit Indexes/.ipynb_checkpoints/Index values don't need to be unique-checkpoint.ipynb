{
 "cells": [
  {
   "cell_type": "code",
   "execution_count": 1,
   "id": "debcdb81",
   "metadata": {},
   "outputs": [
    {
     "name": "stdout",
     "output_type": "stream",
     "text": [
      "                name  color  height_cm  weight_kg date_of_birth\n",
      "breed                                                          \n",
      "Labrador       Bella  Brown         56         24    2013-07-01\n",
      "Poodle       Charlie  Black         43         24    2016-09-16\n",
      "Chow Chow       Lucy  Brown         46         24    2014-08-25\n",
      "Schnauzer     Cooper   Gray         49         17    2011-12-11\n",
      "Labrador         Max  Black         59         29    2017-01-20\n",
      "Chihuahua     Stella    Tan         18          2    2015-04-20\n",
      "St. Bernard   Bernie  White         77         74    2018-02-27\n"
     ]
    }
   ],
   "source": [
    "import numpy as np\n",
    "import pandas as pd\n",
    "dogs = pd.read_csv('C:/Users/nswat/Documents/DataCamp/Datasets/PersonalDatasets/dogs.csv')\n",
    "\n",
    "dogs_ind2 = dogs.set_index('breed')\n",
    "print(dogs_ind2)"
   ]
  }
 ],
 "metadata": {
  "kernelspec": {
   "display_name": "Python 3",
   "language": "python",
   "name": "python3"
  },
  "language_info": {
   "codemirror_mode": {
    "name": "ipython",
    "version": 3
   },
   "file_extension": ".py",
   "mimetype": "text/x-python",
   "name": "python",
   "nbconvert_exporter": "python",
   "pygments_lexer": "ipython3",
   "version": "3.8.8"
  }
 },
 "nbformat": 4,
 "nbformat_minor": 5
}
