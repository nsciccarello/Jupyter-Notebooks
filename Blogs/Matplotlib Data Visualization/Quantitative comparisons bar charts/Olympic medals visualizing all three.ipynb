{
 "cells": [
  {
   "cell_type": "code",
   "execution_count": null,
   "id": "80fdaecc",
   "metadata": {},
   "outputs": [],
   "source": [
    "import pandas as pd\n",
    "import matplotlib.pyplot as plt\n",
    "\n",
    "medals = pd.read_csv('C:/Users/nswat/Documents/DataCamp/Datasets/5IntroToDataVisMatplotlib/medals_by_country_2016.csv',\n",
    "                     index_col=0)\n",
    "\n",
    "#Visualize gold medal data\n",
    "fig, ax = plt.subplots()\n",
    "ax.bar(medals.index, medals['Gold'])\n",
    "\n",
    "#Visualize and stack silver medal data\n",
    "ax.bar(medals.index, medals['Silver'], bottom=medals['Gold'])\n",
    "\n",
    "#Visualize and stack bronze medal data\n",
    "ax.bar(medals.index, medals['Bronze'], \n",
    "       bottom=medals['Gold'] + medals['Silver'])\n",
    "\n",
    "#Set xticks, xticklabels, and ylabel\n",
    "ax.set_xticks(medals.index)\n",
    "ax.set_xticklabels(medals.index, rotation=\"vertical\", size=12)\n",
    "ax.set_xticklabels(medals.index, rotation=90)\n",
    "ax.set_ylabel('Number of medals')"
   ]
  }
 ],
 "metadata": {
  "kernelspec": {
   "display_name": "Python 3",
   "language": "python",
   "name": "python3"
  },
  "language_info": {
   "codemirror_mode": {
    "name": "ipython",
    "version": 3
   },
   "file_extension": ".py",
   "mimetype": "text/x-python",
   "name": "python",
   "nbconvert_exporter": "python",
   "pygments_lexer": "ipython3",
   "version": "3.8.8"
  }
 },
 "nbformat": 4,
 "nbformat_minor": 5
}
