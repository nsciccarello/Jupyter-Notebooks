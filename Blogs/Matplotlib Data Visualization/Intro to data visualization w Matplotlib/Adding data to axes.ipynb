{
 "cells": [
  {
   "cell_type": "code",
   "execution_count": 77,
   "id": "a5435fb1",
   "metadata": {
    "scrolled": false
   },
   "outputs": [
    {
     "data": {
      "text/plain": [
       "0     Jan\n",
       "1     Feb\n",
       "2     Mar\n",
       "3     Apr\n",
       "4     May\n",
       "5     Jun\n",
       "6     Jul\n",
       "7     Aug\n",
       "8     Sep\n",
       "9     Oct\n",
       "10    Nov\n",
       "11    Dec\n",
       "Name: MONTH, dtype: object"
      ]
     },
     "execution_count": 77,
     "metadata": {},
     "output_type": "execute_result"
    }
   ],
   "source": [
    "import matplotlib.pyplot as plt\n",
    "import pandas as pd\n",
    "\n",
    "seattle_weather = pd.read_csv('C:/Users/nswat/Documents/DataCamp/Datasets/5IntroToDataVisMatplotlib/seattle_weather_new.csv')\n",
    "\n",
    "seattle_weather['MONTH']"
   ]
  },
  {
   "cell_type": "code",
   "execution_count": 78,
   "id": "29be4d61",
   "metadata": {},
   "outputs": [
    {
     "data": {
      "text/plain": [
       "0     42.1\n",
       "1     43.4\n",
       "2     46.6\n",
       "3     50.5\n",
       "4     56.0\n",
       "5     61.0\n",
       "6     65.9\n",
       "7     66.5\n",
       "8     61.6\n",
       "9     53.3\n",
       "10    46.2\n",
       "11    41.1\n",
       "Name: MLY-TAVG-NORMAL, dtype: float64"
      ]
     },
     "execution_count": 78,
     "metadata": {},
     "output_type": "execute_result"
    }
   ],
   "source": [
    "seattle_weather['MLY-TAVG-NORMAL']"
   ]
  }
 ],
 "metadata": {
  "kernelspec": {
   "display_name": "Python 3",
   "language": "python",
   "name": "python3"
  },
  "language_info": {
   "codemirror_mode": {
    "name": "ipython",
    "version": 3
   },
   "file_extension": ".py",
   "mimetype": "text/x-python",
   "name": "python",
   "nbconvert_exporter": "python",
   "pygments_lexer": "ipython3",
   "version": "3.8.8"
  }
 },
 "nbformat": 4,
 "nbformat_minor": 5
}
