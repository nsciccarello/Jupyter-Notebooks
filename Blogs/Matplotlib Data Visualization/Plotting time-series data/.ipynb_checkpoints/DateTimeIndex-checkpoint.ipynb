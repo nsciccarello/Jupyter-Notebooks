{
 "cells": [
  {
   "cell_type": "code",
   "execution_count": 1,
   "id": "c28f567f",
   "metadata": {},
   "outputs": [
    {
     "data": {
      "text/plain": [
       "DatetimeIndex([          '1970-01-01 00:00:00',\n",
       "               '1970-01-01 00:00:00.000000001',\n",
       "               '1970-01-01 00:00:00.000000002',\n",
       "               '1970-01-01 00:00:00.000000003',\n",
       "               '1970-01-01 00:00:00.000000004',\n",
       "               '1970-01-01 00:00:00.000000005',\n",
       "               '1970-01-01 00:00:00.000000006',\n",
       "               '1970-01-01 00:00:00.000000007',\n",
       "               '1970-01-01 00:00:00.000000008',\n",
       "               '1970-01-01 00:00:00.000000009',\n",
       "               ...\n",
       "               '1970-01-01 00:00:00.000000696',\n",
       "               '1970-01-01 00:00:00.000000697',\n",
       "               '1970-01-01 00:00:00.000000698',\n",
       "               '1970-01-01 00:00:00.000000699',\n",
       "               '1970-01-01 00:00:00.000000700',\n",
       "               '1970-01-01 00:00:00.000000701',\n",
       "               '1970-01-01 00:00:00.000000702',\n",
       "               '1970-01-01 00:00:00.000000703',\n",
       "               '1970-01-01 00:00:00.000000704',\n",
       "               '1970-01-01 00:00:00.000000705'],\n",
       "              dtype='datetime64[ns]', length=706, freq=None)"
      ]
     },
     "execution_count": 1,
     "metadata": {},
     "output_type": "execute_result"
    }
   ],
   "source": [
    "import pandas as pd\n",
    "import matplotlib.pyplot as plt\n",
    "\n",
    "climate_change = pd.read_csv('C:/Users/nswat/Documents/DataCamp/Datasets/5IntroToDataVisMatplotlib/climate_change.csv')\n",
    "\n",
    "pd.DatetimeIndex(climate_change.index)"
   ]
  }
 ],
 "metadata": {
  "kernelspec": {
   "display_name": "Python 3",
   "language": "python",
   "name": "python3"
  },
  "language_info": {
   "codemirror_mode": {
    "name": "ipython",
    "version": 3
   },
   "file_extension": ".py",
   "mimetype": "text/x-python",
   "name": "python",
   "nbconvert_exporter": "python",
   "pygments_lexer": "ipython3",
   "version": "3.8.8"
  }
 },
 "nbformat": 4,
 "nbformat_minor": 5
}
