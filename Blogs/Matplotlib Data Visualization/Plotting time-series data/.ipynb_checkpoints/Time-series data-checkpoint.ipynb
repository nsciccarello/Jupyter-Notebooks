{
 "cells": [
  {
   "cell_type": "code",
   "execution_count": 4,
   "id": "c28f567f",
   "metadata": {
    "scrolled": true
   },
   "outputs": [
    {
     "data": {
      "text/plain": [
       "0      0.10\n",
       "1      0.01\n",
       "2      0.08\n",
       "3     -0.05\n",
       "4      0.06\n",
       "       ... \n",
       "701    0.98\n",
       "702    0.87\n",
       "703    0.89\n",
       "704    0.93\n",
       "705    0.81\n",
       "Name: relative_temp, Length: 706, dtype: float64"
      ]
     },
     "execution_count": 4,
     "metadata": {},
     "output_type": "execute_result"
    }
   ],
   "source": [
    "import pandas as pd\n",
    "import matplotlib.pyplot as plt\n",
    "\n",
    "climate_change = pd.read_csv('C:/Users/nswat/Documents/DataCamp/Datasets/5IntroToDataVisMatplotlib/climate_change.csv')\n",
    "\n",
    "climate_change['relative_temp']"
   ]
  },
  {
   "cell_type": "code",
   "execution_count": 5,
   "id": "6e499fc3",
   "metadata": {},
   "outputs": [
    {
     "data": {
      "text/plain": [
       "0      315.71\n",
       "1      317.45\n",
       "2      317.50\n",
       "3         NaN\n",
       "4      315.86\n",
       "        ...  \n",
       "701    402.27\n",
       "702    401.05\n",
       "703    401.59\n",
       "704    403.55\n",
       "705    404.45\n",
       "Name: co2, Length: 706, dtype: float64"
      ]
     },
     "execution_count": 5,
     "metadata": {},
     "output_type": "execute_result"
    }
   ],
   "source": [
    "climate_change['co2']"
   ]
  }
 ],
 "metadata": {
  "kernelspec": {
   "display_name": "Python 3",
   "language": "python",
   "name": "python3"
  },
  "language_info": {
   "codemirror_mode": {
    "name": "ipython",
    "version": 3
   },
   "file_extension": ".py",
   "mimetype": "text/x-python",
   "name": "python",
   "nbconvert_exporter": "python",
   "pygments_lexer": "ipython3",
   "version": "3.8.8"
  }
 },
 "nbformat": 4,
 "nbformat_minor": 5
}
