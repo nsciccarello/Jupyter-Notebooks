{
 "cells": [
  {
   "cell_type": "code",
   "execution_count": 6,
   "id": "3d48551f",
   "metadata": {},
   "outputs": [
    {
     "data": {
      "text/plain": [
       "158           Rowing\n",
       "161        Taekwondo\n",
       "175         Handball\n",
       "450        Wrestling\n",
       "794       Gymnastics\n",
       "             ...    \n",
       "269511    Volleyball\n",
       "270111    Volleyball\n",
       "270281        Boxing\n",
       "270370      Canoeing\n",
       "271019        Hockey\n",
       "Name: Sport, Length: 2014, dtype: object"
      ]
     },
     "execution_count": 6,
     "metadata": {},
     "output_type": "execute_result"
    }
   ],
   "source": [
    "import pandas as pd\n",
    "import matplotlib.pyplot as plt\n",
    "\n",
    "summer_2016_medals = pd.read_csv('C:/Users/nswat/Documents/DataCamp/Datasets/5IntroToDataVisMatplotlib/summer2016.csv', \n",
    "                                 index_col=0)\n",
    "\n",
    "summer_2016_medals['Sport']"
   ]
  }
 ],
 "metadata": {
  "kernelspec": {
   "display_name": "Python 3",
   "language": "python",
   "name": "python3"
  },
  "language_info": {
   "codemirror_mode": {
    "name": "ipython",
    "version": 3
   },
   "file_extension": ".py",
   "mimetype": "text/x-python",
   "name": "python",
   "nbconvert_exporter": "python",
   "pygments_lexer": "ipython3",
   "version": "3.8.8"
  }
 },
 "nbformat": 4,
 "nbformat_minor": 5
}
