{
 "cells": [
  {
   "cell_type": "code",
   "execution_count": 2,
   "id": "c857a190",
   "metadata": {},
   "outputs": [
    {
     "data": {
      "text/plain": [
       "array(['Rowing', 'Taekwondo', 'Handball', 'Wrestling', 'Gymnastics',\n",
       "       'Swimming', 'Basketball', 'Boxing', 'Volleyball', 'Athletics',\n",
       "       'Rugby Sevens', 'Judo', 'Rhythmic Gymnastics', 'Weightlifting',\n",
       "       'Equestrianism', 'Badminton', 'Water Polo', 'Football', 'Fencing',\n",
       "       'Shooting', 'Sailing', 'Beach Volleyball', 'Canoeing', 'Hockey',\n",
       "       'Cycling', 'Tennis', 'Diving', 'Table Tennis', 'Triathlon',\n",
       "       'Archery', 'Synchronized Swimming', 'Modern Pentathlon',\n",
       "       'Trampolining', 'Golf'], dtype=object)"
      ]
     },
     "execution_count": 2,
     "metadata": {},
     "output_type": "execute_result"
    }
   ],
   "source": [
    "import pandas as pd\n",
    "import matplotlib.pyplot as plt\n",
    "\n",
    "summer_2016_medals = pd.read_csv('C:/Users/nswat/Documents/DataCamp/Datasets/5IntroToDataVisMatplotlib/summer2016.csv', \n",
    "                                 index_col=0)\n",
    "\n",
    "sports = summer_2016_medals['Sport'].unique()\n",
    "sports"
   ]
  }
 ],
 "metadata": {
  "kernelspec": {
   "display_name": "Python 3",
   "language": "python",
   "name": "python3"
  },
  "language_info": {
   "codemirror_mode": {
    "name": "ipython",
    "version": 3
   },
   "file_extension": ".py",
   "mimetype": "text/x-python",
   "name": "python",
   "nbconvert_exporter": "python",
   "pygments_lexer": "ipython3",
   "version": "3.8.8"
  }
 },
 "nbformat": 4,
 "nbformat_minor": 5
}
