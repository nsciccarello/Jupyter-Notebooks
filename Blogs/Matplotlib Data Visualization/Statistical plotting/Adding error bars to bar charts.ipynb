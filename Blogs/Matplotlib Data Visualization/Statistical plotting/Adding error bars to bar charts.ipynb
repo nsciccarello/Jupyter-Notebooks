{
 "cells": [
  {
   "cell_type": "code",
   "execution_count": 1,
   "id": "3dad46e2",
   "metadata": {},
   "outputs": [
    {
     "data": {
      "image/png": "[encoded data removed]",
      "text/plain": [
       "<Figure size 432x288 with 1 Axes>"
      ]
     },
     "metadata": {
      "needs_background": "light"
     },
     "output_type": "display_data"
    }
   ],
   "source": [
    "import pandas as pd\n",
    "import matplotlib.pyplot as plt\n",
    "\n",
    "mens_rowing = pd.read_csv('C:/Users/nswat/Documents/DataCamp/Datasets/5IntroToDataVisMatplotlib/mens_rowing.csv', \n",
    "                          index_col=0)\n",
    "mens_gymnastics = pd.read_csv('C:/Users/nswat/Documents/DataCamp/Datasets/5IntroToDataVisMatplotlib/mens_gymnastics.csv', \n",
    "                              index_col=0)\n",
    "\n",
    "fig, ax = plt.subplots()\n",
    "\n",
    "ax.bar('Rowing', \n",
    "       mens_rowing['Height'].mean(),\n",
    "       yerr=mens_rowing['Height'].std())\n",
    "\n",
    "ax.bar('Gymnastics', \n",
    "       mens_gymnastics['Height'].mean(),\n",
    "       yerr=mens_gymnastics['Height'].std())\n",
    "\n",
    "ax.set_ylabel('Height (cm)')\n",
    "plt.show()"
   ]
  }
 ],
 "metadata": {
  "kernelspec": {
   "display_name": "Python 3",
   "language": "python",
   "name": "python3"
  },
  "language_info": {
   "codemirror_mode": {
    "name": "ipython",
    "version": 3
   },
   "file_extension": ".py",
   "mimetype": "text/x-python",
   "name": "python",
   "nbconvert_exporter": "python",
   "pygments_lexer": "ipython3",
   "version": "3.8.8"
  }
 },
 "nbformat": 4,
 "nbformat_minor": 5
}
