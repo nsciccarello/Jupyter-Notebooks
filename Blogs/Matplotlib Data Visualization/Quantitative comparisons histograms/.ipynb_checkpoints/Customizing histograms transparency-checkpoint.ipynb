{
 "cells": [
  {
   "cell_type": "code",
   "execution_count": 2,
   "id": "cafbb6b2",
   "metadata": {
    "scrolled": false
   },
   "outputs": [
    {
     "data": {
      "image/png": "[encoded data removed]",
      "text/plain": [
       "<Figure size 432x288 with 1 Axes>"
      ]
     },
     "metadata": {
      "needs_background": "light"
     },
     "output_type": "display_data"
    }
   ],
   "source": [
    "import pandas as pd\n",
    "import matplotlib.pyplot as plt\n",
    "\n",
    "mens_rowing = pd.read_csv('C:/Users/nswat/Documents/DataCamp/Datasets/5IntroToDataVisMatplotlib/mens_rowing.csv', \n",
    "                          index_col=0)\n",
    "mens_gymnastics = pd.read_csv('C:/Users/nswat/Documents/DataCamp/Datasets/5IntroToDataVisMatplotlib/mens_gymnastics.csv', \n",
    "                              index_col=0)\n",
    "\n",
    "fig, ax = plt.subplots()\n",
    "ax.hist(mens_rowing['Height'], label='Rowing', \n",
    "        bins=[150, 160, 170, 180, 190, 200, 210], \n",
    "        histtype='step')\n",
    "\n",
    "ax.hist(mens_gymnastics['Height'], label='Gymnastics', \n",
    "        bins=[150, 160, 170, 180, 190, 200, 210], \n",
    "        histtype='step')\n",
    "\n",
    "ax.set_xlabel('Height (cm)')\n",
    "ax.set_ylabel('# of observations')\n",
    "ax.legend()\n",
    "plt.show()"
   ]
  }
 ],
 "metadata": {
  "kernelspec": {
   "display_name": "Python 3",
   "language": "python",
   "name": "python3"
  },
  "language_info": {
   "codemirror_mode": {
    "name": "ipython",
    "version": 3
   },
   "file_extension": ".py",
   "mimetype": "text/x-python",
   "name": "python",
   "nbconvert_exporter": "python",
   "pygments_lexer": "ipython3",
   "version": "3.8.8"
  }
 },
 "nbformat": 4,
 "nbformat_minor": 5
}
