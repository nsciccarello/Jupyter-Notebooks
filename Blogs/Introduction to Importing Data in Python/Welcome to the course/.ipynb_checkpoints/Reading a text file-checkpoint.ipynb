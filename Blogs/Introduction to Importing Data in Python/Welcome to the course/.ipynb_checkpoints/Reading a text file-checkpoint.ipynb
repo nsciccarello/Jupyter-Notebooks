{
 "cells": [
  {
   "cell_type": "code",
   "execution_count": 1,
   "id": "e795974b",
   "metadata": {},
   "outputs": [],
   "source": [
    "filename = 'C:/Users/nswat/Documents/DataCamp/Datasets/7IntroToImportingDataInPython/huck_finn.txt'\n",
    "\n",
    "# 'r' is to read\n",
    "file = open(filename, mode='r')\n",
    "text = file.read()\n",
    "file.close()"
   ]
  }
 ],
 "metadata": {
  "kernelspec": {
   "display_name": "Python 3",
   "language": "python",
   "name": "python3"
  },
  "language_info": {
   "codemirror_mode": {
    "name": "ipython",
    "version": 3
   },
   "file_extension": ".py",
   "mimetype": "text/x-python",
   "name": "python",
   "nbconvert_exporter": "python",
   "pygments_lexer": "ipython3",
   "version": "3.8.8"
  }
 },
 "nbformat": 4,
 "nbformat_minor": 5
}
