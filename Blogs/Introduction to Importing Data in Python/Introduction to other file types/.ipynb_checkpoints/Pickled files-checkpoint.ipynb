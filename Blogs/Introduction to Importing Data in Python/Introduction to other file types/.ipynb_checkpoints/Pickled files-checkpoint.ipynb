{
 "cells": [
  {
   "cell_type": "code",
   "execution_count": 3,
   "id": "00fe82a3",
   "metadata": {},
   "outputs": [
    {
     "name": "stdout",
     "output_type": "stream",
     "text": [
      "['apple', 'orange', 'lemon', 'lime']\n"
     ]
    }
   ],
   "source": [
    "import pickle\n",
    "\n",
    "with open('C:/Users/nswat/Documents/DataCamp/Datasets/7IntroToImportingDataInPython/pickled_fruit.pkl', 'rb') as file:\n",
    "    data = pickle.load(file)\n",
    "    \n",
    "print(data)"
   ]
  }
 ],
 "metadata": {
  "kernelspec": {
   "display_name": "Python 3",
   "language": "python",
   "name": "python3"
  },
  "language_info": {
   "codemirror_mode": {
    "name": "ipython",
    "version": 3
   },
   "file_extension": ".py",
   "mimetype": "text/x-python",
   "name": "python",
   "nbconvert_exporter": "python",
   "pygments_lexer": "ipython3",
   "version": "3.8.8"
  }
 },
 "nbformat": 4,
 "nbformat_minor": 5
}
