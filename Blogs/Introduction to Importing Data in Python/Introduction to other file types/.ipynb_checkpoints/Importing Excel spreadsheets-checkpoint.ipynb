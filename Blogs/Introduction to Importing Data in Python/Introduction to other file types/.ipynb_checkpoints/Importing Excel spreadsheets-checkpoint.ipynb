{
 "cells": [
  {
   "cell_type": "code",
   "execution_count": 2,
   "id": "00fe82a3",
   "metadata": {},
   "outputs": [
    {
     "data": {
      "text/plain": [
       "['1960-1966', '1967-1974', '1975-2011']"
      ]
     },
     "execution_count": 2,
     "metadata": {},
     "output_type": "execute_result"
    }
   ],
   "source": [
    "import pandas as pd\n",
    "file = 'C:/Users/nswat/Documents/DataCamp/Datasets/7IntroToImportingDataInPython/urbanpop.xlsx'\n",
    "data = pd.ExcelFile(file)\n",
    "data.sheet_names"
   ]
  },
  {
   "cell_type": "code",
   "execution_count": 4,
   "id": "33081b6f",
   "metadata": {},
   "outputs": [],
   "source": [
    "# sheet name, as a string\n",
    "df1 = data.parse('1960-1966') \n",
    "\n",
    "#sheet index, as a float\n",
    "df2 = data.parse(0) "
   ]
  }
 ],
 "metadata": {
  "kernelspec": {
   "display_name": "Python 3",
   "language": "python",
   "name": "python3"
  },
  "language_info": {
   "codemirror_mode": {
    "name": "ipython",
    "version": 3
   },
   "file_extension": ".py",
   "mimetype": "text/x-python",
   "name": "python",
   "nbconvert_exporter": "python",
   "pygments_lexer": "ipython3",
   "version": "3.8.8"
  }
 },
 "nbformat": 4,
 "nbformat_minor": 5
}
