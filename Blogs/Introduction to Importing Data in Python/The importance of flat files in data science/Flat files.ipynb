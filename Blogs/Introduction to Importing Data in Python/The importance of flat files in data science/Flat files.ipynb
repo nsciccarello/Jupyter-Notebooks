{
 "cells": [
  {
   "cell_type": "code",
   "execution_count": 3,
   "id": "81af28b8",
   "metadata": {},
   "outputs": [
    {
     "name": "stdout",
     "output_type": "stream",
     "text": [
      "     PassengerId  Survived  Pclass     Sex   Age  SibSp  Parch  \\\n",
      "0              1         0       3    male  22.0      1      0   \n",
      "1              2         1       1  female  38.0      1      0   \n",
      "2              3         1       3  female  26.0      0      0   \n",
      "3              4         1       1  female  35.0      1      0   \n",
      "4              5         0       3    male  35.0      0      0   \n",
      "..           ...       ...     ...     ...   ...    ...    ...   \n",
      "886          887         0       2    male  27.0      0      0   \n",
      "887          888         1       1  female  19.0      0      0   \n",
      "888          889         0       3  female   NaN      1      2   \n",
      "889          890         1       1    male  26.0      0      0   \n",
      "890          891         0       3    male  32.0      0      0   \n",
      "\n",
      "               Ticket     Fare Cabin Embarked  \n",
      "0           A/5 21171   7.2500   NaN        S  \n",
      "1            PC 17599  71.2833   C85        C  \n",
      "2    STON/O2. 3101282   7.9250   NaN        S  \n",
      "3              113803  53.1000  C123        S  \n",
      "4              373450   8.0500   NaN        S  \n",
      "..                ...      ...   ...      ...  \n",
      "886            211536  13.0000   NaN        S  \n",
      "887            112053  30.0000   B42        S  \n",
      "888        W./C. 6607  23.4500   NaN        S  \n",
      "889            111369  30.0000  C148        C  \n",
      "890            370376   7.7500   NaN        Q  \n",
      "\n",
      "[891 rows x 11 columns]\n"
     ]
    }
   ],
   "source": [
    "import pandas as pd\n",
    "\n",
    "titanic = pd.read_csv('C:/Users/nswat/Documents/DataCamp/Datasets/7IntroToImportingDataInPython/titanic_sub.csv')\n",
    "\n",
    "print(titanic)"
   ]
  }
 ],
 "metadata": {
  "kernelspec": {
   "display_name": "Python 3",
   "language": "python",
   "name": "python3"
  },
  "language_info": {
   "codemirror_mode": {
    "name": "ipython",
    "version": 3
   },
   "file_extension": ".py",
   "mimetype": "text/x-python",
   "name": "python",
   "nbconvert_exporter": "python",
   "pygments_lexer": "ipython3",
   "version": "3.8.8"
  }
 },
 "nbformat": 4,
 "nbformat_minor": 5
}
