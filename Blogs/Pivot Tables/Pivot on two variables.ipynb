{
 "cells": [
  {
   "cell_type": "code",
   "execution_count": 1,
   "id": "69dbf7ef",
   "metadata": {},
   "outputs": [
    {
     "data": {
      "text/plain": [
       "color  breed      \n",
       "Black  Labrador       29\n",
       "       Poodle         24\n",
       "Brown  Chow Chow      24\n",
       "       Labrador       24\n",
       "Gray   Schnauzer      17\n",
       "Tan    Chihuahua       2\n",
       "White  St. Bernard    74\n",
       "Name: weight_kg, dtype: int64"
      ]
     },
     "execution_count": 1,
     "metadata": {},
     "output_type": "execute_result"
    }
   ],
   "source": [
    "import numpy as np\n",
    "import pandas as pd\n",
    "dogs = pd.read_csv('C:/Users/nswat/Documents/DataCamp/Datasets/PersonalDatasets/dogs.csv')\n",
    "\n",
    "#Get the mean of the dogs' weight and sort them by color and breed.\n",
    "dogs.groupby(['color', 'breed'])['weight_kg'].mean()"
   ]
  },
  {
   "cell_type": "code",
   "execution_count": 2,
   "id": "ca3ca870",
   "metadata": {},
   "outputs": [
    {
     "data": {
      "text/html": [
       "<div>\n",
       "<style scoped>\n",
       "    .dataframe tbody tr th:only-of-type {\n",
       "        vertical-align: middle;\n",
       "    }\n",
       "\n",
       "    .dataframe tbody tr th {\n",
       "        vertical-align: top;\n",
       "    }\n",
       "\n",
       "    .dataframe thead th {\n",
       "        text-align: right;\n",
       "    }\n",
       "</style>\n",
       "<table border=\"1\" class=\"dataframe\">\n",
       "  <thead>\n",
       "    <tr style=\"text-align: right;\">\n",
       "      <th>breed</th>\n",
       "      <th>Chihuahua</th>\n",
       "      <th>Chow Chow</th>\n",
       "      <th>Labrador</th>\n",
       "      <th>Poodle</th>\n",
       "      <th>Schnauzer</th>\n",
       "      <th>St. Bernard</th>\n",
       "    </tr>\n",
       "    <tr>\n",
       "      <th>color</th>\n",
       "      <th></th>\n",
       "      <th></th>\n",
       "      <th></th>\n",
       "      <th></th>\n",
       "      <th></th>\n",
       "      <th></th>\n",
       "    </tr>\n",
       "  </thead>\n",
       "  <tbody>\n",
       "    <tr>\n",
       "      <th>Black</th>\n",
       "      <td>NaN</td>\n",
       "      <td>NaN</td>\n",
       "      <td>29.0</td>\n",
       "      <td>24.0</td>\n",
       "      <td>NaN</td>\n",
       "      <td>NaN</td>\n",
       "    </tr>\n",
       "    <tr>\n",
       "      <th>Brown</th>\n",
       "      <td>NaN</td>\n",
       "      <td>24.0</td>\n",
       "      <td>24.0</td>\n",
       "      <td>NaN</td>\n",
       "      <td>NaN</td>\n",
       "      <td>NaN</td>\n",
       "    </tr>\n",
       "    <tr>\n",
       "      <th>Gray</th>\n",
       "      <td>NaN</td>\n",
       "      <td>NaN</td>\n",
       "      <td>NaN</td>\n",
       "      <td>NaN</td>\n",
       "      <td>17.0</td>\n",
       "      <td>NaN</td>\n",
       "    </tr>\n",
       "    <tr>\n",
       "      <th>Tan</th>\n",
       "      <td>2.0</td>\n",
       "      <td>NaN</td>\n",
       "      <td>NaN</td>\n",
       "      <td>NaN</td>\n",
       "      <td>NaN</td>\n",
       "      <td>NaN</td>\n",
       "    </tr>\n",
       "    <tr>\n",
       "      <th>White</th>\n",
       "      <td>NaN</td>\n",
       "      <td>NaN</td>\n",
       "      <td>NaN</td>\n",
       "      <td>NaN</td>\n",
       "      <td>NaN</td>\n",
       "      <td>74.0</td>\n",
       "    </tr>\n",
       "  </tbody>\n",
       "</table>\n",
       "</div>"
      ],
      "text/plain": [
       "breed  Chihuahua  Chow Chow  Labrador  Poodle  Schnauzer  St. Bernard\n",
       "color                                                                \n",
       "Black        NaN        NaN      29.0    24.0        NaN          NaN\n",
       "Brown        NaN       24.0      24.0     NaN        NaN          NaN\n",
       "Gray         NaN        NaN       NaN     NaN       17.0          NaN\n",
       "Tan          2.0        NaN       NaN     NaN        NaN          NaN\n",
       "White        NaN        NaN       NaN     NaN        NaN         74.0"
      ]
     },
     "execution_count": 2,
     "metadata": {},
     "output_type": "execute_result"
    }
   ],
   "source": [
    "#Do the same but with the pivot_table method\n",
    "dogs.pivot_table(values='weight_kg', index='color', columns='breed')"
   ]
  }
 ],
 "metadata": {
  "kernelspec": {
   "display_name": "Python 3",
   "language": "python",
   "name": "python3"
  },
  "language_info": {
   "codemirror_mode": {
    "name": "ipython",
    "version": 3
   },
   "file_extension": ".py",
   "mimetype": "text/x-python",
   "name": "python",
   "nbconvert_exporter": "python",
   "pygments_lexer": "ipython3",
   "version": "3.8.8"
  }
 },
 "nbformat": 4,
 "nbformat_minor": 5
}
