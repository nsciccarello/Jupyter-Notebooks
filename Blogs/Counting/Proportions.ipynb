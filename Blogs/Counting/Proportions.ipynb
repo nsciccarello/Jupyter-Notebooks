{
 "cells": [
  {
   "cell_type": "code",
   "execution_count": 1,
   "id": "1e63db58",
   "metadata": {},
   "outputs": [
    {
     "data": {
      "text/plain": [
       "Labrador       0.250\n",
       "Chow Chow      0.250\n",
       "Schnauzer      0.125\n",
       "Poodle         0.125\n",
       "St. Bernard    0.125\n",
       "Chihuahua      0.125\n",
       "Name: breed, dtype: float64"
      ]
     },
     "execution_count": 1,
     "metadata": {},
     "output_type": "execute_result"
    }
   ],
   "source": [
    "import pandas as pd\n",
    "vet_visits = pd.read_csv('C:/Users/nswat/Documents/DataCamp/Datasets/PersonalDatasets/VetVisits.csv')\n",
    "\n",
    "#Drop duplicates by name and breed\n",
    "unique_dogs = vet_visits.drop_duplicates(subset=['name', 'breed'])\n",
    "\n",
    "unique_dogs['breed'].value_counts(normalize=True)"
   ]
  }
 ],
 "metadata": {
  "kernelspec": {
   "display_name": "Python 3",
   "language": "python",
   "name": "python3"
  },
  "language_info": {
   "codemirror_mode": {
    "name": "ipython",
    "version": 3
   },
   "file_extension": ".py",
   "mimetype": "text/x-python",
   "name": "python",
   "nbconvert_exporter": "python",
   "pygments_lexer": "ipython3",
   "version": "3.8.8"
  }
 },
 "nbformat": 4,
 "nbformat_minor": 5
}
