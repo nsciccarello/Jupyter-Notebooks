{
 "cells": [
  {
   "cell_type": "code",
   "execution_count": 2,
   "id": "94c71b49",
   "metadata": {},
   "outputs": [
    {
     "name": "stdout",
     "output_type": "stream",
     "text": [
      "          date     name        breed  weight_kg\n",
      "0   2018-09-02    Bella     Labrador      24.87\n",
      "1   2019-06-07      Max    Chow Chow      24.13\n",
      "2   2019-03-19  Charlie       Poodle      24.95\n",
      "3   2018-01-17   Stella    Chihuahua       1.51\n",
      "4   2019-10-19     Lucy    Chow Chow      24.07\n",
      "6   2019-06-07      Max     Labrador      28.35\n",
      "7   2019-03-30   Cooper    Schnauzer      16.91\n",
      "11  2019-01-04   Bernie  St. Bernard      74.98\n"
     ]
    }
   ],
   "source": [
    "import pandas as pd\n",
    "vet_visits = pd.read_csv('C:/Users/nswat/Documents/DataCamp/Datasets/PersonalDatasets/VetVisits.csv')\n",
    "\n",
    "#Drop duplicates by name and breed\n",
    "unique_dogs = vet_visits.drop_duplicates(subset=['name', 'breed'])\n",
    "\n",
    "#Display unique dogs\n",
    "print(unique_dogs)"
   ]
  }
 ],
 "metadata": {
  "kernelspec": {
   "display_name": "Python 3",
   "language": "python",
   "name": "python3"
  },
  "language_info": {
   "codemirror_mode": {
    "name": "ipython",
    "version": 3
   },
   "file_extension": ".py",
   "mimetype": "text/x-python",
   "name": "python",
   "nbconvert_exporter": "python",
   "pygments_lexer": "ipython3",
   "version": "3.8.8"
  }
 },
 "nbformat": 4,
 "nbformat_minor": 5
}
