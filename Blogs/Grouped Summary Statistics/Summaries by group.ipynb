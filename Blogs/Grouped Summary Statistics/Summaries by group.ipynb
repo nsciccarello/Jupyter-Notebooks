{
 "cells": [
  {
   "cell_type": "code",
   "execution_count": 4,
   "id": "746ceb1a",
   "metadata": {},
   "outputs": [
    {
     "name": "stdout",
     "output_type": "stream",
     "text": [
      "26.5\n",
      "24.0\n",
      "74.0\n",
      "17.0\n",
      "2.0\n"
     ]
    }
   ],
   "source": [
    "import pandas as pd\n",
    "dogs = pd.read_csv('C:/Users/nswat/Documents/DataCamp/Datasets/PersonalDatasets/dogs.csv')\n",
    "\n",
    "print(dogs[dogs['color'] == 'Black']['weight_kg'].mean())\n",
    "print(dogs[dogs['color'] == 'Brown']['weight_kg'].mean())\n",
    "print(dogs[dogs['color'] == 'White']['weight_kg'].mean())\n",
    "print(dogs[dogs['color'] == 'Gray']['weight_kg'].mean())\n",
    "print(dogs[dogs['color'] == 'Tan']['weight_kg'].mean())"
   ]
  }
 ],
 "metadata": {
  "kernelspec": {
   "display_name": "Python 3",
   "language": "python",
   "name": "python3"
  },
  "language_info": {
   "codemirror_mode": {
    "name": "ipython",
    "version": 3
   },
   "file_extension": ".py",
   "mimetype": "text/x-python",
   "name": "python",
   "nbconvert_exporter": "python",
   "pygments_lexer": "ipython3",
   "version": "3.8.8"
  }
 },
 "nbformat": 4,
 "nbformat_minor": 5
}
