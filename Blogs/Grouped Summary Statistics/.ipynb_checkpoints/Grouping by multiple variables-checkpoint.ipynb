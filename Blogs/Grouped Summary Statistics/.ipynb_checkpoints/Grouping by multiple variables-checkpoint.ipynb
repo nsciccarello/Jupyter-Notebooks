{
 "cells": [
  {
   "cell_type": "code",
   "execution_count": 1,
   "id": "746ceb1a",
   "metadata": {},
   "outputs": [
    {
     "data": {
      "text/plain": [
       "color  breed      \n",
       "Black  Labrador       29\n",
       "       Poodle         24\n",
       "Brown  Chow Chow      24\n",
       "       Labrador       24\n",
       "Gray   Schnauzer      17\n",
       "Tan    Chihuahua       2\n",
       "White  St. Bernard    74\n",
       "Name: weight_kg, dtype: int64"
      ]
     },
     "execution_count": 1,
     "metadata": {},
     "output_type": "execute_result"
    }
   ],
   "source": [
    "import pandas as pd\n",
    "dogs = pd.read_csv('C:/Users/nswat/Documents/DataCamp/Datasets/PersonalDatasets/dogs.csv')\n",
    "\n",
    "dogs.groupby(['color', 'breed'])['weight_kg'].mean()"
   ]
  }
 ],
 "metadata": {
  "kernelspec": {
   "display_name": "Python 3",
   "language": "python",
   "name": "python3"
  },
  "language_info": {
   "codemirror_mode": {
    "name": "ipython",
    "version": 3
   },
   "file_extension": ".py",
   "mimetype": "text/x-python",
   "name": "python",
   "nbconvert_exporter": "python",
   "pygments_lexer": "ipython3",
   "version": "3.8.8"
  }
 },
 "nbformat": 4,
 "nbformat_minor": 5
}
