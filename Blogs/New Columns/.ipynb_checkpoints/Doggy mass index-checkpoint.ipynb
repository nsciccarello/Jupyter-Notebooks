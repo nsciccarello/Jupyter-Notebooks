{
 "cells": [
  {
   "cell_type": "code",
   "execution_count": 1,
   "id": "cd912499",
   "metadata": {},
   "outputs": [
    {
     "name": "stdout",
     "output_type": "stream",
     "text": [
      "      name      breed  color  height_cm  weight_kg data_of_birth  height_m  \\\n",
      "0    Bella   Labrador  Brown         56         24    2013-07-01      0.56   \n",
      "1  Charlie     Poodle  Black         43         24    2016-09-16      0.43   \n",
      "2     Lucy  Chow Chow  Brown         46         24    2014-08-25      0.46   \n",
      "3   Cooper  Schnauzer   Gray         49         17    2011-12-11      0.49   \n",
      "4      Max   Labrador  Black         59         29    2017-01-20      0.59   \n",
      "\n",
      "          bmi  \n",
      "0   76.530612  \n",
      "1  129.799892  \n",
      "2  113.421550  \n",
      "3   70.803832  \n",
      "4   83.309394  \n"
     ]
    }
   ],
   "source": [
    "import pandas as pd\n",
    "dogs = pd.read_csv('C:/Users/nswat/Documents/DataCamp/Datasets/PersonalDatasets/dogs.csv')\n",
    "dogs['height_m'] = dogs['height_cm'] / 100\n",
    "\n",
    "#Adding doggy bmi...\n",
    "dogs['bmi'] = dogs['weight_kg'] / dogs['height_m'] ** 2\n",
    "print(dogs.head())"
   ]
  },
  {
   "cell_type": "code",
   "execution_count": null,
   "id": "3ead6728",
   "metadata": {},
   "outputs": [],
   "source": []
  }
 ],
 "metadata": {
  "kernelspec": {
   "display_name": "Python 3",
   "language": "python",
   "name": "python3"
  },
  "language_info": {
   "codemirror_mode": {
    "name": "ipython",
    "version": 3
   },
   "file_extension": ".py",
   "mimetype": "text/x-python",
   "name": "python",
   "nbconvert_exporter": "python",
   "pygments_lexer": "ipython3",
   "version": "3.8.8"
  }
 },
 "nbformat": 4,
 "nbformat_minor": 5
}
