{
 "cells": [
  {
   "cell_type": "code",
   "execution_count": 1,
   "id": "c354700f",
   "metadata": {},
   "outputs": [
    {
     "data": {
      "text/plain": [
       "pct30    22.6\n",
       "pct40    24.0\n",
       "Name: weight_kg, dtype: float64"
      ]
     },
     "execution_count": 1,
     "metadata": {},
     "output_type": "execute_result"
    }
   ],
   "source": [
    "import pandas as pd\n",
    "dogs = pd.read_csv('C:/Users/nswat/Documents/DataCamp/Datasets/PersonalDatasets/dogs.csv')\n",
    "\n",
    "# Computes the thirtieth percentile of a DataFrame column\n",
    "def pct30(column):\n",
    "    return column.quantile(0.3)\n",
    "\n",
    "# Computes the fourtieth percentile of a DataFrame column\n",
    "def pct40(column):\n",
    "    return column.quantile(0.4)\n",
    "\n",
    "dogs['weight_kg'].agg([pct30, pct40])"
   ]
  }
 ],
 "metadata": {
  "kernelspec": {
   "display_name": "Python 3",
   "language": "python",
   "name": "python3"
  },
  "language_info": {
   "codemirror_mode": {
    "name": "ipython",
    "version": 3
   },
   "file_extension": ".py",
   "mimetype": "text/x-python",
   "name": "python",
   "nbconvert_exporter": "python",
   "pygments_lexer": "ipython3",
   "version": "3.8.8"
  }
 },
 "nbformat": 4,
 "nbformat_minor": 5
}
